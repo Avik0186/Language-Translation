{
 "cells": [
  {
   "cell_type": "markdown",
   "metadata": {
    "collapsed": true,
    "deletable": true,
    "editable": true
   },
   "source": [
    "# Language Translation\n",
    "In this project, you’re going to take a peek into the realm of neural network machine translation.  You’ll be training a sequence to sequence model on a dataset of English and French sentences that can translate new sentences from English to French.\n",
    "## Get the Data\n",
    "Since translating the whole language of English to French will take lots of time to train, we have provided you with a small portion of the English corpus."
   ]
  },
  {
   "cell_type": "code",
   "execution_count": 1,
   "metadata": {
    "collapsed": true,
    "deletable": true,
    "editable": true
   },
   "outputs": [],
   "source": [
    "\"\"\"\n",
    "DON'T MODIFY ANYTHING IN THIS CELL\n",
    "\"\"\"\n",
    "import helper\n",
    "import problem_unittests as tests\n",
    "\n",
    "source_path = 'data/small_vocab_en'\n",
    "target_path = 'data/small_vocab_fr'\n",
    "source_text = helper.load_data(source_path)\n",
    "target_text = helper.load_data(target_path)"
   ]
  },
  {
   "cell_type": "markdown",
   "metadata": {
    "deletable": true,
    "editable": true
   },
   "source": [
    "## Explore the Data\n",
    "Play around with view_sentence_range to view different parts of the data."
   ]
  },
  {
   "cell_type": "code",
   "execution_count": 2,
   "metadata": {
    "collapsed": false,
    "deletable": true,
    "editable": true
   },
   "outputs": [
    {
     "name": "stdout",
     "output_type": "stream",
     "text": [
      "Dataset Stats\n",
      "Roughly the number of unique words: 227\n",
      "Number of sentences: 137861\n",
      "Average number of words in a sentence: 13.225277634719028\n",
      "\n",
      "English sentences 0 to 10:\n",
      "new jersey is sometimes quiet during autumn , and it is snowy in april .\n",
      "the united states is usually chilly during july , and it is usually freezing in november .\n",
      "california is usually quiet during march , and it is usually hot in june .\n",
      "the united states is sometimes mild during june , and it is cold in september .\n",
      "your least liked fruit is the grape , but my least liked is the apple .\n",
      "his favorite fruit is the orange , but my favorite is the grape .\n",
      "paris is relaxing during december , but it is usually chilly in july .\n",
      "new jersey is busy during spring , and it is never hot in march .\n",
      "our least liked fruit is the lemon , but my least liked is the grape .\n",
      "the united states is sometimes busy during january , and it is sometimes warm in november .\n",
      "\n",
      "French sentences 0 to 10:\n",
      "new jersey est parfois calme pendant l' automne , et il est neigeux en avril .\n",
      "les états-unis est généralement froid en juillet , et il gèle habituellement en novembre .\n",
      "california est généralement calme en mars , et il est généralement chaud en juin .\n",
      "les états-unis est parfois légère en juin , et il fait froid en septembre .\n",
      "votre moins aimé fruit est le raisin , mais mon moins aimé est la pomme .\n",
      "son fruit préféré est l'orange , mais mon préféré est le raisin .\n",
      "paris est relaxant en décembre , mais il est généralement froid en juillet .\n",
      "new jersey est occupé au printemps , et il est jamais chaude en mars .\n",
      "notre fruit est moins aimé le citron , mais mon moins aimé est le raisin .\n",
      "les états-unis est parfois occupé en janvier , et il est parfois chaud en novembre .\n"
     ]
    }
   ],
   "source": [
    "view_sentence_range = (0, 10)\n",
    "\n",
    "\"\"\"\n",
    "DON'T MODIFY ANYTHING IN THIS CELL\n",
    "\"\"\"\n",
    "import numpy as np\n",
    "\n",
    "print('Dataset Stats')\n",
    "print('Roughly the number of unique words: {}'.format(len({word: None for word in source_text.split()})))\n",
    "\n",
    "sentences = source_text.split('\\n')\n",
    "word_counts = [len(sentence.split()) for sentence in sentences]\n",
    "print('Number of sentences: {}'.format(len(sentences)))\n",
    "print('Average number of words in a sentence: {}'.format(np.average(word_counts)))\n",
    "\n",
    "print()\n",
    "print('English sentences {} to {}:'.format(*view_sentence_range))\n",
    "print('\\n'.join(source_text.split('\\n')[view_sentence_range[0]:view_sentence_range[1]]))\n",
    "print()\n",
    "print('French sentences {} to {}:'.format(*view_sentence_range))\n",
    "print('\\n'.join(target_text.split('\\n')[view_sentence_range[0]:view_sentence_range[1]]))"
   ]
  },
  {
   "cell_type": "markdown",
   "metadata": {
    "deletable": true,
    "editable": true
   },
   "source": [
    "## Implement Preprocessing Function\n",
    "### Text to Word Ids\n",
    "As you did with other RNNs, you must turn the text into a number so the computer can understand it. In the function `text_to_ids()`, you'll turn `source_text` and `target_text` from words to ids.  However, you need to add the `<EOS>` word id at the end of `target_text`.  This will help the neural network predict when the sentence should end.\n",
    "\n",
    "You can get the `<EOS>` word id by doing:\n",
    "```python\n",
    "target_vocab_to_int['<EOS>']\n",
    "```\n",
    "You can get other word ids using `source_vocab_to_int` and `target_vocab_to_int`."
   ]
  },
  {
   "cell_type": "code",
   "execution_count": 3,
   "metadata": {
    "collapsed": false,
    "deletable": true,
    "editable": true
   },
   "outputs": [
    {
     "name": "stdout",
     "output_type": "stream",
     "text": [
      "Tests Passed\n"
     ]
    }
   ],
   "source": [
    "def text_to_ids(source_text, target_text, source_vocab_to_int, target_vocab_to_int):\n",
    "    \"\"\"\n",
    "    Convert source and target text to proper word ids\n",
    "    :param source_text: String that contains all the source text.\n",
    "    :param target_text: String that contains all the target text.\n",
    "    :param source_vocab_to_int: Dictionary to go from the source words to an id\n",
    "    :param target_vocab_to_int: Dictionary to go from the target words to an id\n",
    "    :return: A tuple of lists (source_id_text, target_id_text)\n",
    "    \"\"\"\n",
    "    # TODO: Implement Function\n",
    "    input_text = source_text.split('\\n')\n",
    "    encoded_input_text = [ [source_vocab_to_int[w] for w in text.split()] for text in input_text]\n",
    "    output_text =  target_text.split('\\n')\n",
    "    for (idx,sentence) in enumerate(output_text):\n",
    "        output_text[idx] = sentence + ' <EOS>'\n",
    "    \n",
    "    encoded_output_text = [ [target_vocab_to_int[w] for w in text.split()] for text in output_text]\n",
    "    \n",
    "    return encoded_input_text, encoded_output_text \n",
    "\n",
    "\"\"\"\n",
    "DON'T MODIFY ANYTHING IN THIS CELL THAT IS BELOW THIS LINE\n",
    "\"\"\"\n",
    "tests.test_text_to_ids(text_to_ids)"
   ]
  },
  {
   "cell_type": "markdown",
   "metadata": {
    "deletable": true,
    "editable": true
   },
   "source": [
    "### Preprocess all the data and save it\n",
    "Running the code cell below will preprocess all the data and save it to file."
   ]
  },
  {
   "cell_type": "code",
   "execution_count": 4,
   "metadata": {
    "collapsed": true,
    "deletable": true,
    "editable": true
   },
   "outputs": [],
   "source": [
    "\"\"\"\n",
    "DON'T MODIFY ANYTHING IN THIS CELL\n",
    "\"\"\"\n",
    "helper.preprocess_and_save_data(source_path, target_path, text_to_ids)"
   ]
  },
  {
   "cell_type": "markdown",
   "metadata": {
    "deletable": true,
    "editable": true
   },
   "source": [
    "# Check Point\n",
    "This is your first checkpoint. If you ever decide to come back to this notebook or have to restart the notebook, you can start from here. The preprocessed data has been saved to disk."
   ]
  },
  {
   "cell_type": "code",
   "execution_count": 5,
   "metadata": {
    "collapsed": true,
    "deletable": true,
    "editable": true
   },
   "outputs": [],
   "source": [
    "\"\"\"\n",
    "DON'T MODIFY ANYTHING IN THIS CELL\n",
    "\"\"\"\n",
    "import numpy as np\n",
    "import helper\n",
    "import problem_unittests as tests\n",
    "\n",
    "(source_int_text, target_int_text), (source_vocab_to_int, target_vocab_to_int), _ = helper.load_preprocess()"
   ]
  },
  {
   "cell_type": "markdown",
   "metadata": {
    "deletable": true,
    "editable": true
   },
   "source": [
    "### Check the Version of TensorFlow and Access to GPU\n",
    "This will check to make sure you have the correct version of TensorFlow and access to a GPU"
   ]
  },
  {
   "cell_type": "code",
   "execution_count": 6,
   "metadata": {
    "collapsed": false,
    "deletable": true,
    "editable": true
   },
   "outputs": [
    {
     "name": "stdout",
     "output_type": "stream",
     "text": [
      "TensorFlow Version: 1.1.0\n",
      "Default GPU Device: /gpu:0\n"
     ]
    }
   ],
   "source": [
    "\"\"\"\n",
    "DON'T MODIFY ANYTHING IN THIS CELL\n",
    "\"\"\"\n",
    "from distutils.version import LooseVersion\n",
    "import warnings\n",
    "import tensorflow as tf\n",
    "from tensorflow.python.layers.core import Dense\n",
    "\n",
    "# Check TensorFlow Version\n",
    "assert LooseVersion(tf.__version__) >= LooseVersion('1.1'), 'Please use TensorFlow version 1.1 or newer'\n",
    "print('TensorFlow Version: {}'.format(tf.__version__))\n",
    "\n",
    "# Check for a GPU\n",
    "if not tf.test.gpu_device_name():\n",
    "    warnings.warn('No GPU found. Please use a GPU to train your neural network.')\n",
    "else:\n",
    "    print('Default GPU Device: {}'.format(tf.test.gpu_device_name()))"
   ]
  },
  {
   "cell_type": "markdown",
   "metadata": {
    "deletable": true,
    "editable": true
   },
   "source": [
    "## Build the Neural Network\n",
    "You'll build the components necessary to build a Sequence-to-Sequence model by implementing the following functions below:\n",
    "- `model_inputs`\n",
    "- `process_decoder_input`\n",
    "- `encoding_layer`\n",
    "- `decoding_layer_train`\n",
    "- `decoding_layer_infer`\n",
    "- `decoding_layer`\n",
    "- `seq2seq_model`\n",
    "\n",
    "### Input\n",
    "Implement the `model_inputs()` function to create TF Placeholders for the Neural Network. It should create the following placeholders:\n",
    "\n",
    "- Input text placeholder named \"input\" using the TF Placeholder name parameter with rank 2.\n",
    "- Targets placeholder with rank 2.\n",
    "- Learning rate placeholder with rank 0.\n",
    "- Keep probability placeholder named \"keep_prob\" using the TF Placeholder name parameter with rank 0.\n",
    "- Target sequence length placeholder named \"target_sequence_length\" with rank 1\n",
    "- Max target sequence length tensor named \"max_target_len\" getting its value from applying tf.reduce_max on the target_sequence_length placeholder. Rank 0.\n",
    "- Source sequence length placeholder named \"source_sequence_length\" with rank 1\n",
    "\n",
    "Return the placeholders in the following the tuple (input, targets, learning rate, keep probability, target sequence length, max target sequence length, source sequence length)"
   ]
  },
  {
   "cell_type": "code",
   "execution_count": 7,
   "metadata": {
    "collapsed": false,
    "deletable": true,
    "editable": true
   },
   "outputs": [
    {
     "name": "stdout",
     "output_type": "stream",
     "text": [
      "Tests Passed\n"
     ]
    }
   ],
   "source": [
    "def model_inputs():\n",
    "    \"\"\"\n",
    "    Create TF Placeholders for input, targets, learning rate, and lengths of source and target sequences.\n",
    "    :return: Tuple (input, targets, learning rate, keep probability, target sequence length,\n",
    "    max target sequence length, source sequence length)\n",
    "    \"\"\"\n",
    "    # TODO: Implement Function\n",
    "    input_data = tf.placeholder(tf.int32,[None,None],name='input')\n",
    "    target_data = tf.placeholder(tf.int32,[None,None])\n",
    "    tgt_seq_len = tf.placeholder(tf.int32, [None], name='target_sequence_length')\n",
    "    max_tgt_seq_len = tf.reduce_max(tgt_seq_len,name='max_target_len' )\n",
    "    source_seq_len = tf.placeholder(tf.int32, [None], name='source_sequence_length')\n",
    "    l_rate = tf.placeholder(tf.float32)\n",
    "    keep_prob = tf.placeholder(tf.float32, name='keep_prob')\n",
    "    return input_data, target_data, l_rate, keep_prob, tgt_seq_len, max_tgt_seq_len, source_seq_len\n",
    "\n",
    "\n",
    "\"\"\"\n",
    "DON'T MODIFY ANYTHING IN THIS CELL THAT IS BELOW THIS LINE\n",
    "\"\"\"\n",
    "tests.test_model_inputs(model_inputs)"
   ]
  },
  {
   "cell_type": "markdown",
   "metadata": {
    "deletable": true,
    "editable": true
   },
   "source": [
    "### Process Decoder Input\n",
    "Implement `process_decoder_input` by removing the last word id from each batch in `target_data` and concat the GO ID to the begining of each batch."
   ]
  },
  {
   "cell_type": "code",
   "execution_count": 8,
   "metadata": {
    "collapsed": false,
    "deletable": true,
    "editable": true
   },
   "outputs": [
    {
     "name": "stdout",
     "output_type": "stream",
     "text": [
      "Tests Passed\n"
     ]
    }
   ],
   "source": [
    "def process_decoder_input(target_data, target_vocab_to_int, batch_size):\n",
    "    \"\"\"\n",
    "    Preprocess target data for encoding\n",
    "    :param target_data: Target Placehoder\n",
    "    :param target_vocab_to_int: Dictionary to go from the target words to an id\n",
    "    :param batch_size: Batch Size\n",
    "    :return: Preprocessed target data\n",
    "    \"\"\"\n",
    "    # TODO: Implement Function\n",
    "    go_id = target_vocab_to_int['<GO>']\n",
    "    go = tf.fill([batch_size, 1], go_id)\n",
    "    batch = tf.strided_slice(target_data, [0, 0], [batch_size, -1], [1, 1])\n",
    "    decoded_input = tf.concat([go,batch],1)    \n",
    "    return decoded_input\n",
    "\n",
    "\"\"\"\n",
    "DON'T MODIFY ANYTHING IN THIS CELL THAT IS BELOW THIS LINE\n",
    "\"\"\"\n",
    "tests.test_process_encoding_input(process_decoder_input)"
   ]
  },
  {
   "cell_type": "markdown",
   "metadata": {
    "deletable": true,
    "editable": true
   },
   "source": [
    "### Encoding\n",
    "Implement `encoding_layer()` to create a Encoder RNN layer:\n",
    " * Embed the encoder input using [`tf.contrib.layers.embed_sequence`](https://www.tensorflow.org/api_docs/python/tf/contrib/layers/embed_sequence)\n",
    " * Construct a [stacked](https://github.com/tensorflow/tensorflow/blob/6947f65a374ebf29e74bb71e36fd82760056d82c/tensorflow/docs_src/tutorials/recurrent.md#stacking-multiple-lstms) [`tf.contrib.rnn.LSTMCell`](https://www.tensorflow.org/api_docs/python/tf/contrib/rnn/LSTMCell) wrapped in a [`tf.contrib.rnn.DropoutWrapper`](https://www.tensorflow.org/api_docs/python/tf/contrib/rnn/DropoutWrapper)\n",
    " * Pass cell and embedded input to [`tf.nn.dynamic_rnn()`](https://www.tensorflow.org/api_docs/python/tf/nn/dynamic_rnn)"
   ]
  },
  {
   "cell_type": "code",
   "execution_count": 9,
   "metadata": {
    "collapsed": false,
    "deletable": true,
    "editable": true,
    "scrolled": false
   },
   "outputs": [
    {
     "name": "stdout",
     "output_type": "stream",
     "text": [
      "Tests Passed\n"
     ]
    }
   ],
   "source": [
    "from imp import reload\n",
    "reload(tests)\n",
    "\n",
    "def encoding_layer(rnn_inputs, rnn_size, num_layers, keep_prob, \n",
    "                   source_sequence_length, source_vocab_size, \n",
    "                   encoding_embedding_size):\n",
    "    \"\"\"\n",
    "    Create encoding layer\n",
    "    :param rnn_inputs: Inputs for the RNN\n",
    "    :param rnn_size: RNN Size\n",
    "    :param num_layers: Number of layers\n",
    "    :param keep_prob: Dropout keep probability\n",
    "    :param source_sequence_length: a list of the lengths of each sequence in the batch\n",
    "    :param source_vocab_size: vocabulary size of source data\n",
    "    :param encoding_embedding_size: embedding size of source data\n",
    "    :return: tuple (RNN output, RNN state)\n",
    "    \"\"\"\n",
    "   \n",
    "    #return rnn_output, rnn_state\n",
    "    enc_embed_input = tf.contrib.layers.embed_sequence(rnn_inputs, source_vocab_size, encoding_embedding_size)\n",
    "    \n",
    "    # RNN cell\n",
    "    def make_cell(rnn_size):\n",
    "        lstm = tf.contrib.rnn.BasicLSTMCell(rnn_size)\n",
    "        return lstm\n",
    "\n",
    "    rnn_cell = tf.contrib.rnn.MultiRNNCell([make_cell(rnn_size) for _ in range(num_layers)])  \n",
    "    rnn_cell = tf.contrib.rnn.DropoutWrapper(rnn_cell, 1.0, keep_prob)\n",
    "    rnn_output, rnn_state = tf.nn.dynamic_rnn(rnn_cell, enc_embed_input, sequence_length=source_sequence_length, \n",
    "                                              dtype=tf.float32)\n",
    "    \n",
    "    return rnn_output, rnn_state\n",
    "\n",
    "\n",
    "\n",
    "\"\"\"\n",
    "DON'T MODIFY ANYTHING IN THIS CELL THAT IS BELOW THIS LINE\n",
    "\"\"\"\n",
    "tests.test_encoding_layer(encoding_layer)"
   ]
  },
  {
   "cell_type": "markdown",
   "metadata": {
    "deletable": true,
    "editable": true
   },
   "source": [
    "### Decoding - Training\n",
    "Create a training decoding layer:\n",
    "* Create a [`tf.contrib.seq2seq.TrainingHelper`](https://www.tensorflow.org/api_docs/python/tf/contrib/seq2seq/TrainingHelper) \n",
    "* Create a [`tf.contrib.seq2seq.BasicDecoder`](https://www.tensorflow.org/api_docs/python/tf/contrib/seq2seq/BasicDecoder)\n",
    "* Obtain the decoder outputs from [`tf.contrib.seq2seq.dynamic_decode`](https://www.tensorflow.org/api_docs/python/tf/contrib/seq2seq/dynamic_decode)"
   ]
  },
  {
   "cell_type": "code",
   "execution_count": 10,
   "metadata": {
    "collapsed": false,
    "deletable": true,
    "editable": true
   },
   "outputs": [
    {
     "name": "stdout",
     "output_type": "stream",
     "text": [
      "Tests Passed\n"
     ]
    }
   ],
   "source": [
    "\n",
    "def decoding_layer_train(encoder_state, dec_cell, dec_embed_input, \n",
    "                         target_sequence_length, max_summary_length, \n",
    "                         output_layer, keep_prob):\n",
    "    \"\"\"\n",
    "    Create a decoding layer for training\n",
    "    :param encoder_state: Encoder State\n",
    "    :param dec_cell: Decoder RNN Cell\n",
    "    :param dec_embed_input: Decoder embedded input\n",
    "    :param target_sequence_length: The lengths of each sequence in the target batch\n",
    "    :param max_summary_length: The length of the longest sequence in the batch\n",
    "    :param output_layer: Function to apply the output layer\n",
    "    :param keep_prob: Dropout keep probability\n",
    "    :return: BasicDecoderOutput containing training logits and sample_id\n",
    "    \"\"\"\n",
    "    # TODO: Implement Function\n",
    "    helper = tf.contrib.seq2seq.TrainingHelper(inputs=dec_embed_input,\n",
    "                                               sequence_length=target_sequence_length,\n",
    "                                               time_major=False )\n",
    "    decoder = tf.contrib.seq2seq.BasicDecoder(dec_cell, helper,encoder_state, output_layer)\n",
    "    logits, _ = tf.contrib.seq2seq.dynamic_decode(decoder,impute_finished=True,maximum_iterations=max_summary_length)\n",
    "    return logits\n",
    "\n",
    "\n",
    "\n",
    "\"\"\"\n",
    "DON'T MODIFY ANYTHING IN THIS CELL THAT IS BELOW THIS LINE\n",
    "\"\"\"\n",
    "tests.test_decoding_layer_train(decoding_layer_train)"
   ]
  },
  {
   "cell_type": "markdown",
   "metadata": {
    "deletable": true,
    "editable": true
   },
   "source": [
    "### Decoding - Inference\n",
    "Create inference decoder:\n",
    "* Create a [`tf.contrib.seq2seq.GreedyEmbeddingHelper`](https://www.tensorflow.org/api_docs/python/tf/contrib/seq2seq/GreedyEmbeddingHelper)\n",
    "* Create a [`tf.contrib.seq2seq.BasicDecoder`](https://www.tensorflow.org/api_docs/python/tf/contrib/seq2seq/BasicDecoder)\n",
    "* Obtain the decoder outputs from [`tf.contrib.seq2seq.dynamic_decode`](https://www.tensorflow.org/api_docs/python/tf/contrib/seq2seq/dynamic_decode)"
   ]
  },
  {
   "cell_type": "code",
   "execution_count": 11,
   "metadata": {
    "collapsed": false,
    "deletable": true,
    "editable": true,
    "scrolled": true
   },
   "outputs": [
    {
     "name": "stdout",
     "output_type": "stream",
     "text": [
      "Tests Passed\n"
     ]
    }
   ],
   "source": [
    "def decoding_layer_infer(encoder_state, dec_cell, dec_embeddings, start_of_sequence_id,\n",
    "                         end_of_sequence_id, max_target_sequence_length,\n",
    "                         vocab_size, output_layer, batch_size, keep_prob):\n",
    "    \"\"\"\n",
    "    Create a decoding layer for inference\n",
    "    :param encoder_state: Encoder state\n",
    "    :param dec_cell: Decoder RNN Cell\n",
    "    :param dec_embeddings: Decoder embeddings\n",
    "    :param start_of_sequence_id: GO ID\n",
    "    :param end_of_sequence_id: EOS Id\n",
    "    :param max_target_sequence_length: Maximum length of target sequences\n",
    "    :param vocab_size: Size of decoder/target vocabulary\n",
    "    :param decoding_scope: TenorFlow Variable Scope for decoding\n",
    "    :param output_layer: Function to apply the output layer\n",
    "    :param batch_size: Batch size\n",
    "    :param keep_prob: Dropout keep probability\n",
    "    :return: BasicDecoderOutput containing inference logits and sample_id\n",
    "    \"\"\"\n",
    "    # TODO: Implement Function\n",
    "    embedding_helper = tf.contrib.seq2seq.GreedyEmbeddingHelper(dec_embeddings,\n",
    "                                                                [start_of_sequence_id] * batch_size,\n",
    "                                                                end_of_sequence_id)\n",
    "    decoder = tf.contrib.seq2seq.BasicDecoder(dec_cell, embedding_helper, encoder_state, output_layer=output_layer)\n",
    "    output = tf.contrib.seq2seq.dynamic_decode(decoder, maximum_iterations=max_target_sequence_length)\n",
    "\n",
    "    return output[0]\n",
    "\n",
    "\n",
    "\"\"\"\n",
    "DON'T MODIFY ANYTHING IN THIS CELL THAT IS BELOW THIS LINE\n",
    "\"\"\"\n",
    "tests.test_decoding_layer_infer(decoding_layer_infer)"
   ]
  },
  {
   "cell_type": "markdown",
   "metadata": {
    "deletable": true,
    "editable": true
   },
   "source": [
    "### Build the Decoding Layer\n",
    "Implement `decoding_layer()` to create a Decoder RNN layer.\n",
    "\n",
    "* Embed the target sequences\n",
    "* Construct the decoder LSTM cell (just like you constructed the encoder cell above)\n",
    "* Create an output layer to map the outputs of the decoder to the elements of our vocabulary\n",
    "* Use the your `decoding_layer_train(encoder_state, dec_cell, dec_embed_input, target_sequence_length, max_target_sequence_length, output_layer, keep_prob)` function to get the training logits.\n",
    "* Use your `decoding_layer_infer(encoder_state, dec_cell, dec_embeddings, start_of_sequence_id, end_of_sequence_id, max_target_sequence_length, vocab_size, output_layer, batch_size, keep_prob)` function to get the inference logits.\n",
    "\n",
    "Note: You'll need to use [tf.variable_scope](https://www.tensorflow.org/api_docs/python/tf/variable_scope) to share variables between training and inference."
   ]
  },
  {
   "cell_type": "code",
   "execution_count": 12,
   "metadata": {
    "collapsed": false,
    "deletable": true,
    "editable": true
   },
   "outputs": [
    {
     "name": "stdout",
     "output_type": "stream",
     "text": [
      "Tests Passed\n"
     ]
    }
   ],
   "source": [
    "from tensorflow.python.layers.core import Dense\n",
    "\n",
    "def decoding_layer(dec_input, encoder_state,\n",
    "                   target_sequence_length, max_target_sequence_length,\n",
    "                   rnn_size,\n",
    "                   num_layers, target_vocab_to_int, target_vocab_size,\n",
    "                   batch_size, keep_prob, decoding_embedding_size):\n",
    "    \"\"\"\n",
    "    Create decoding layer\n",
    "    :param dec_input: Decoder input\n",
    "    :param encoder_state: Encoder state\n",
    "    :param target_sequence_length: The lengths of each sequence in the target batch\n",
    "    :param max_target_sequence_length: Maximum length of target sequences\n",
    "    :param rnn_size: RNN Size\n",
    "    :param num_layers: Number of layers\n",
    "    :param target_vocab_to_int: Dictionary to go from the target words to an id\n",
    "    :param target_vocab_size: Size of target vocabulary\n",
    "    :param batch_size: The size of the batch\n",
    "    :param keep_prob: Dropout keep probability\n",
    "    :param decoding_embedding_size: Decoding embedding size\n",
    "    :return: Tuple of (Training BasicDecoderOutput, Inference BasicDecoderOutput)\n",
    "    \"\"\"\n",
    "    # TODO: Implement Function\n",
    "    dec_embeddings = tf.Variable(tf.random_uniform([target_vocab_size, decoding_embedding_size]))\n",
    "    dec_embed_input = tf.nn.embedding_lookup(dec_embeddings, dec_input)\n",
    "    \n",
    "    def make_cell(rnn_size, keep_prob):\n",
    "        cell = tf.contrib.rnn.LSTMCell(rnn_size, initializer=tf.random_uniform_initializer(-0.1, 0.1, seed=2))\n",
    "        cell = tf.contrib.rnn.DropoutWrapper(cell, output_keep_prob=keep_prob)\n",
    "        return cell\n",
    "    \n",
    "    dec_cell = tf.contrib.rnn.MultiRNNCell([make_cell(rnn_size, keep_prob) for _ in range(num_layers)])\n",
    "    \n",
    "    output_layer = Dense(target_vocab_size, kernel_initializer = tf.truncated_normal_initializer(mean = 0.0, stddev=0.1))\n",
    "    \n",
    "    with tf.variable_scope(\"decode\"):\n",
    "        decoder_training_output = decoding_layer_train(encoder_state, dec_cell, dec_embed_input, target_sequence_length,\n",
    "                            max_target_sequence_length, output_layer, keep_prob)\n",
    "    \n",
    "    with tf.variable_scope(\"decode\", reuse=True):\n",
    "        decoder_inference_output = decoding_layer_infer(encoder_state, dec_cell, dec_embeddings,\n",
    "                                                       target_vocab_to_int['<GO>'], target_vocab_to_int['<EOS>'],\n",
    "                                                       max_target_sequence_length, target_vocab_size, \n",
    "                                                       output_layer, batch_size, keep_prob)\n",
    "    \n",
    "        \n",
    "    \n",
    "    return decoder_training_output, decoder_inference_output\n",
    "    \n",
    "\n",
    "\n",
    "\"\"\"\n",
    "DON'T MODIFY ANYTHING IN THIS CELL THAT IS BELOW THIS LINE\n",
    "\"\"\"\n",
    "tests.test_decoding_layer(decoding_layer)"
   ]
  },
  {
   "cell_type": "markdown",
   "metadata": {
    "deletable": true,
    "editable": true
   },
   "source": [
    "### Build the Neural Network\n",
    "Apply the functions you implemented above to:\n",
    "\n",
    "- Encode the input using your `encoding_layer(rnn_inputs, rnn_size, num_layers, keep_prob,  source_sequence_length, source_vocab_size, encoding_embedding_size)`.\n",
    "- Process target data using your `process_decoder_input(target_data, target_vocab_to_int, batch_size)` function.\n",
    "- Decode the encoded input using your `decoding_layer(dec_input, enc_state, target_sequence_length, max_target_sentence_length, rnn_size, num_layers, target_vocab_to_int, target_vocab_size, batch_size, keep_prob, dec_embedding_size)` function."
   ]
  },
  {
   "cell_type": "code",
   "execution_count": 13,
   "metadata": {
    "collapsed": false,
    "deletable": true,
    "editable": true
   },
   "outputs": [
    {
     "name": "stdout",
     "output_type": "stream",
     "text": [
      "Tests Passed\n"
     ]
    }
   ],
   "source": [
    "def seq2seq_model(input_data, target_data, keep_prob, batch_size,\n",
    "                  source_sequence_length, target_sequence_length,\n",
    "                  max_target_sentence_length,\n",
    "                  source_vocab_size, target_vocab_size,\n",
    "                  enc_embedding_size, dec_embedding_size,\n",
    "                  rnn_size, num_layers, target_vocab_to_int):\n",
    "    \"\"\"\n",
    "    Build the Sequence-to-Sequence part of the neural network\n",
    "    :param input_data: Input placeholder\n",
    "    :param target_data: Target placeholder\n",
    "    :param keep_prob: Dropout keep probability placeholder\n",
    "    :param batch_size: Batch Size\n",
    "    :param source_sequence_length: Sequence Lengths of source sequences in the batch\n",
    "    :param target_sequence_length: Sequence Lengths of target sequences in the batch\n",
    "    :param source_vocab_size: Source vocabulary size\n",
    "    :param target_vocab_size: Target vocabulary size\n",
    "    :param enc_embedding_size: Decoder embedding size\n",
    "    :param dec_embedding_size: Encoder embedding size\n",
    "    :param rnn_size: RNN Size\n",
    "    :param num_layers: Number of layers\n",
    "    :param target_vocab_to_int: Dictionary to go from the target words to an id\n",
    "    :return: Tuple of (Training BasicDecoderOutput, Inference BasicDecoderOutput)\n",
    "    \"\"\"\n",
    "    # TODO: Implement Function\n",
    "    enc_output, enc_state = encoding_layer(input_data, rnn_size, num_layers, keep_prob, \n",
    "                                           source_sequence_length, source_vocab_size, \n",
    "                                           enc_embedding_size)\n",
    "    dec_input = process_decoder_input(target_data, target_vocab_to_int, batch_size)\n",
    "    output_train, output_inference  = decoding_layer(dec_input, enc_state, target_sequence_length, max_target_sentence_length, \n",
    "                                                 rnn_size, num_layers, target_vocab_to_int, target_vocab_size, batch_size,\n",
    "                                                 keep_prob, dec_embedding_size)\n",
    "    return output_train, output_inference \n",
    "\n",
    "\n",
    "\"\"\"\n",
    "DON'T MODIFY ANYTHING IN THIS CELL THAT IS BELOW THIS LINE\n",
    "\"\"\"\n",
    "tests.test_seq2seq_model(seq2seq_model)"
   ]
  },
  {
   "cell_type": "markdown",
   "metadata": {
    "deletable": true,
    "editable": true
   },
   "source": [
    "## Neural Network Training\n",
    "### Hyperparameters\n",
    "Tune the following parameters:\n",
    "\n",
    "- Set `epochs` to the number of epochs.\n",
    "- Set `batch_size` to the batch size.\n",
    "- Set `rnn_size` to the size of the RNNs.\n",
    "- Set `num_layers` to the number of layers.\n",
    "- Set `encoding_embedding_size` to the size of the embedding for the encoder.\n",
    "- Set `decoding_embedding_size` to the size of the embedding for the decoder.\n",
    "- Set `learning_rate` to the learning rate.\n",
    "- Set `keep_probability` to the Dropout keep probability\n",
    "- Set `display_step` to state how many steps between each debug output statement"
   ]
  },
  {
   "cell_type": "code",
   "execution_count": 14,
   "metadata": {
    "collapsed": true,
    "deletable": true,
    "editable": true
   },
   "outputs": [],
   "source": [
    "# Number of Epochs\n",
    "epochs = 8\n",
    "# Batch Size\n",
    "batch_size = 256\n",
    "# RNN Size\n",
    "rnn_size = 512\n",
    "# Number of Layers\n",
    "num_layers = 4\n",
    "# Embedding Size\n",
    "encoding_embedding_size = 150\n",
    "decoding_embedding_size = 150\n",
    "# Learning Rate\n",
    "learning_rate = 0.001\n",
    "# Dropout Keep Probability\n",
    "keep_probability = 0.5\n",
    "display_step = 10"
   ]
  },
  {
   "cell_type": "markdown",
   "metadata": {
    "deletable": true,
    "editable": true
   },
   "source": [
    "### Build the Graph\n",
    "Build the graph using the neural network you implemented."
   ]
  },
  {
   "cell_type": "code",
   "execution_count": 15,
   "metadata": {
    "collapsed": true,
    "deletable": true,
    "editable": true
   },
   "outputs": [],
   "source": [
    "\"\"\"\n",
    "DON'T MODIFY ANYTHING IN THIS CELL\n",
    "\"\"\"\n",
    "save_path = 'checkpoints/dev'\n",
    "(source_int_text, target_int_text), (source_vocab_to_int, target_vocab_to_int), _ = helper.load_preprocess()\n",
    "max_target_sentence_length = max([len(sentence) for sentence in source_int_text])\n",
    "\n",
    "train_graph = tf.Graph()\n",
    "with train_graph.as_default():\n",
    "    input_data, targets, lr, keep_prob, target_sequence_length, max_target_sequence_length, source_sequence_length = model_inputs()\n",
    "\n",
    "    #sequence_length = tf.placeholder_with_default(max_target_sentence_length, None, name='sequence_length')\n",
    "    input_shape = tf.shape(input_data)\n",
    "\n",
    "    train_logits, inference_logits = seq2seq_model(tf.reverse(input_data, [-1]),\n",
    "                                                   targets,\n",
    "                                                   keep_prob,\n",
    "                                                   batch_size,\n",
    "                                                   source_sequence_length,\n",
    "                                                   target_sequence_length,\n",
    "                                                   max_target_sequence_length,\n",
    "                                                   len(source_vocab_to_int),\n",
    "                                                   len(target_vocab_to_int),\n",
    "                                                   encoding_embedding_size,\n",
    "                                                   decoding_embedding_size,\n",
    "                                                   rnn_size,\n",
    "                                                   num_layers,\n",
    "                                                   target_vocab_to_int)\n",
    "\n",
    "\n",
    "    training_logits = tf.identity(train_logits.rnn_output, name='logits')\n",
    "    inference_logits = tf.identity(inference_logits.sample_id, name='predictions')\n",
    "\n",
    "    masks = tf.sequence_mask(target_sequence_length, max_target_sequence_length, dtype=tf.float32, name='masks')\n",
    "\n",
    "    with tf.name_scope(\"optimization\"):\n",
    "        # Loss function\n",
    "        cost = tf.contrib.seq2seq.sequence_loss(\n",
    "            training_logits,\n",
    "            targets,\n",
    "            masks)\n",
    "\n",
    "        # Optimizer\n",
    "        optimizer = tf.train.AdamOptimizer(lr)\n",
    "\n",
    "        # Gradient Clipping\n",
    "        gradients = optimizer.compute_gradients(cost)\n",
    "        capped_gradients = [(tf.clip_by_value(grad, -1., 1.), var) for grad, var in gradients if grad is not None]\n",
    "        train_op = optimizer.apply_gradients(capped_gradients)\n"
   ]
  },
  {
   "cell_type": "markdown",
   "metadata": {
    "deletable": true,
    "editable": true
   },
   "source": [
    "Batch and pad the source and target sequences"
   ]
  },
  {
   "cell_type": "code",
   "execution_count": 16,
   "metadata": {
    "collapsed": true,
    "deletable": true,
    "editable": true
   },
   "outputs": [],
   "source": [
    "\"\"\"\n",
    "DON'T MODIFY ANYTHING IN THIS CELL\n",
    "\"\"\"\n",
    "def pad_sentence_batch(sentence_batch, pad_int):\n",
    "    \"\"\"Pad sentences with <PAD> so that each sentence of a batch has the same length\"\"\"\n",
    "    max_sentence = max([len(sentence) for sentence in sentence_batch])\n",
    "    return [sentence + [pad_int] * (max_sentence - len(sentence)) for sentence in sentence_batch]\n",
    "\n",
    "\n",
    "def get_batches(sources, targets, batch_size, source_pad_int, target_pad_int):\n",
    "    \"\"\"Batch targets, sources, and the lengths of their sentences together\"\"\"\n",
    "    for batch_i in range(0, len(sources)//batch_size):\n",
    "        start_i = batch_i * batch_size\n",
    "\n",
    "        # Slice the right amount for the batch\n",
    "        sources_batch = sources[start_i:start_i + batch_size]\n",
    "        targets_batch = targets[start_i:start_i + batch_size]\n",
    "\n",
    "        # Pad\n",
    "        pad_sources_batch = np.array(pad_sentence_batch(sources_batch, source_pad_int))\n",
    "        pad_targets_batch = np.array(pad_sentence_batch(targets_batch, target_pad_int))\n",
    "\n",
    "        # Need the lengths for the _lengths parameters\n",
    "        pad_targets_lengths = []\n",
    "        for target in pad_targets_batch:\n",
    "            pad_targets_lengths.append(len(target))\n",
    "\n",
    "        pad_source_lengths = []\n",
    "        for source in pad_sources_batch:\n",
    "            pad_source_lengths.append(len(source))\n",
    "\n",
    "        yield pad_sources_batch, pad_targets_batch, pad_source_lengths, pad_targets_lengths\n"
   ]
  },
  {
   "cell_type": "markdown",
   "metadata": {
    "deletable": true,
    "editable": true
   },
   "source": [
    "### Train\n",
    "Train the neural network on the preprocessed data. If you have a hard time getting a good loss, check the forms to see if anyone is having the same problem."
   ]
  },
  {
   "cell_type": "code",
   "execution_count": 17,
   "metadata": {
    "collapsed": false,
    "deletable": true,
    "editable": true,
    "scrolled": true
   },
   "outputs": [
    {
     "name": "stdout",
     "output_type": "stream",
     "text": [
      "Epoch   0 Batch   10/538 - Train Accuracy: 0.3430, Validation Accuracy: 0.4260, Loss: 3.4330\n",
      "Epoch   0 Batch   20/538 - Train Accuracy: 0.4154, Validation Accuracy: 0.4528, Loss: 2.8338\n",
      "Epoch   0 Batch   30/538 - Train Accuracy: 0.4117, Validation Accuracy: 0.4675, Loss: 2.6567\n",
      "Epoch   0 Batch   40/538 - Train Accuracy: 0.5204, Validation Accuracy: 0.5151, Loss: 2.1923\n",
      "Epoch   0 Batch   50/538 - Train Accuracy: 0.4869, Validation Accuracy: 0.5215, Loss: 2.2003\n",
      "Epoch   0 Batch   60/538 - Train Accuracy: 0.4793, Validation Accuracy: 0.5288, Loss: 2.3261\n",
      "Epoch   0 Batch   70/538 - Train Accuracy: 0.4725, Validation Accuracy: 0.5027, Loss: 1.9380\n",
      "Epoch   0 Batch   80/538 - Train Accuracy: 0.4830, Validation Accuracy: 0.5323, Loss: 2.0044\n",
      "Epoch   0 Batch   90/538 - Train Accuracy: 0.5108, Validation Accuracy: 0.5389, Loss: 1.8049\n",
      "Epoch   0 Batch  100/538 - Train Accuracy: 0.4889, Validation Accuracy: 0.5332, Loss: 1.7270\n",
      "Epoch   0 Batch  110/538 - Train Accuracy: 0.5068, Validation Accuracy: 0.5433, Loss: 1.7107\n",
      "Epoch   0 Batch  120/538 - Train Accuracy: 0.4990, Validation Accuracy: 0.5323, Loss: 1.6273\n",
      "Epoch   0 Batch  130/538 - Train Accuracy: 0.5281, Validation Accuracy: 0.5545, Loss: 1.4839\n",
      "Epoch   0 Batch  140/538 - Train Accuracy: 0.4912, Validation Accuracy: 0.5444, Loss: 1.5596\n",
      "Epoch   0 Batch  150/538 - Train Accuracy: 0.5420, Validation Accuracy: 0.5662, Loss: 1.4523\n",
      "Epoch   0 Batch  160/538 - Train Accuracy: 0.5359, Validation Accuracy: 0.5604, Loss: 1.3214\n",
      "Epoch   0 Batch  170/538 - Train Accuracy: 0.5685, Validation Accuracy: 0.5716, Loss: 1.3022\n",
      "Epoch   0 Batch  180/538 - Train Accuracy: 0.5288, Validation Accuracy: 0.5337, Loss: 1.2834\n",
      "Epoch   0 Batch  190/538 - Train Accuracy: 0.5471, Validation Accuracy: 0.5549, Loss: 1.3566\n",
      "Epoch   0 Batch  200/538 - Train Accuracy: 0.4906, Validation Accuracy: 0.5334, Loss: 1.3034\n",
      "Epoch   0 Batch  210/538 - Train Accuracy: 0.5084, Validation Accuracy: 0.5408, Loss: 1.2157\n",
      "Epoch   0 Batch  220/538 - Train Accuracy: 0.5171, Validation Accuracy: 0.5472, Loss: 1.2705\n",
      "Epoch   0 Batch  230/538 - Train Accuracy: 0.5404, Validation Accuracy: 0.5398, Loss: 1.1891\n",
      "Epoch   0 Batch  240/538 - Train Accuracy: 0.4855, Validation Accuracy: 0.5328, Loss: 1.1786\n",
      "Epoch   0 Batch  250/538 - Train Accuracy: 0.5693, Validation Accuracy: 0.5856, Loss: 1.1032\n",
      "Epoch   0 Batch  260/538 - Train Accuracy: 0.5374, Validation Accuracy: 0.5676, Loss: 1.0735\n",
      "Epoch   0 Batch  270/538 - Train Accuracy: 0.5605, Validation Accuracy: 0.5904, Loss: 1.0559\n",
      "Epoch   0 Batch  280/538 - Train Accuracy: 0.5997, Validation Accuracy: 0.5863, Loss: 1.0208\n",
      "Epoch   0 Batch  290/538 - Train Accuracy: 0.5693, Validation Accuracy: 0.5936, Loss: 1.0292\n",
      "Epoch   0 Batch  300/538 - Train Accuracy: 0.6014, Validation Accuracy: 0.5977, Loss: 0.9644\n",
      "Epoch   0 Batch  310/538 - Train Accuracy: 0.5859, Validation Accuracy: 0.5941, Loss: 0.9264\n",
      "Epoch   0 Batch  320/538 - Train Accuracy: 0.6012, Validation Accuracy: 0.5923, Loss: 0.9775\n",
      "Epoch   0 Batch  330/538 - Train Accuracy: 0.5928, Validation Accuracy: 0.5884, Loss: 0.9228\n",
      "Epoch   0 Batch  340/538 - Train Accuracy: 0.5820, Validation Accuracy: 0.5904, Loss: 0.9402\n",
      "Epoch   0 Batch  350/538 - Train Accuracy: 0.6014, Validation Accuracy: 0.5938, Loss: 0.9156\n",
      "Epoch   0 Batch  360/538 - Train Accuracy: 0.6070, Validation Accuracy: 0.5929, Loss: 0.9167\n",
      "Epoch   0 Batch  370/538 - Train Accuracy: 0.5791, Validation Accuracy: 0.5957, Loss: 0.8971\n",
      "Epoch   0 Batch  380/538 - Train Accuracy: 0.5682, Validation Accuracy: 0.5914, Loss: 0.8663\n",
      "Epoch   0 Batch  390/538 - Train Accuracy: 0.6410, Validation Accuracy: 0.5955, Loss: 0.7946\n",
      "Epoch   0 Batch  400/538 - Train Accuracy: 0.6006, Validation Accuracy: 0.6014, Loss: 0.8129\n",
      "Epoch   0 Batch  410/538 - Train Accuracy: 0.5803, Validation Accuracy: 0.6037, Loss: 0.8235\n",
      "Epoch   0 Batch  420/538 - Train Accuracy: 0.6098, Validation Accuracy: 0.6046, Loss: 0.7864\n",
      "Epoch   0 Batch  430/538 - Train Accuracy: 0.6037, Validation Accuracy: 0.6220, Loss: 0.7764\n",
      "Epoch   0 Batch  440/538 - Train Accuracy: 0.5992, Validation Accuracy: 0.6042, Loss: 0.8282\n",
      "Epoch   0 Batch  450/538 - Train Accuracy: 0.6138, Validation Accuracy: 0.6268, Loss: 0.7780\n",
      "Epoch   0 Batch  460/538 - Train Accuracy: 0.5869, Validation Accuracy: 0.6184, Loss: 0.7343\n",
      "Epoch   0 Batch  470/538 - Train Accuracy: 0.6230, Validation Accuracy: 0.6207, Loss: 0.7101\n",
      "Epoch   0 Batch  480/538 - Train Accuracy: 0.6380, Validation Accuracy: 0.6287, Loss: 0.6998\n",
      "Epoch   0 Batch  490/538 - Train Accuracy: 0.6211, Validation Accuracy: 0.6262, Loss: 0.6944\n",
      "Epoch   0 Batch  500/538 - Train Accuracy: 0.6438, Validation Accuracy: 0.6261, Loss: 0.6566\n",
      "Epoch   0 Batch  510/538 - Train Accuracy: 0.6399, Validation Accuracy: 0.6259, Loss: 0.6649\n",
      "Epoch   0 Batch  520/538 - Train Accuracy: 0.6143, Validation Accuracy: 0.6323, Loss: 0.6993\n",
      "Epoch   0 Batch  530/538 - Train Accuracy: 0.5881, Validation Accuracy: 0.6177, Loss: 0.7031\n",
      "Epoch   1 Batch   10/538 - Train Accuracy: 0.6092, Validation Accuracy: 0.6486, Loss: 0.6813\n",
      "Epoch   1 Batch   20/538 - Train Accuracy: 0.6289, Validation Accuracy: 0.6428, Loss: 0.6387\n",
      "Epoch   1 Batch   30/538 - Train Accuracy: 0.6277, Validation Accuracy: 0.6516, Loss: 0.6584\n",
      "Epoch   1 Batch   40/538 - Train Accuracy: 0.6953, Validation Accuracy: 0.6499, Loss: 0.5695\n",
      "Epoch   1 Batch   50/538 - Train Accuracy: 0.6443, Validation Accuracy: 0.6534, Loss: 0.6183\n",
      "Epoch   1 Batch   60/538 - Train Accuracy: 0.6555, Validation Accuracy: 0.6468, Loss: 0.6120\n",
      "Epoch   1 Batch   70/538 - Train Accuracy: 0.6551, Validation Accuracy: 0.6465, Loss: 0.5853\n",
      "Epoch   1 Batch   80/538 - Train Accuracy: 0.6398, Validation Accuracy: 0.6515, Loss: 0.6257\n",
      "Epoch   1 Batch   90/538 - Train Accuracy: 0.6339, Validation Accuracy: 0.6543, Loss: 0.5992\n",
      "Epoch   1 Batch  100/538 - Train Accuracy: 0.6430, Validation Accuracy: 0.6545, Loss: 0.5742\n",
      "Epoch   1 Batch  110/538 - Train Accuracy: 0.6463, Validation Accuracy: 0.6516, Loss: 0.5823\n",
      "Epoch   1 Batch  120/538 - Train Accuracy: 0.6531, Validation Accuracy: 0.6529, Loss: 0.5399\n",
      "Epoch   1 Batch  130/538 - Train Accuracy: 0.6678, Validation Accuracy: 0.6500, Loss: 0.5276\n",
      "Epoch   1 Batch  140/538 - Train Accuracy: 0.6066, Validation Accuracy: 0.6486, Loss: 0.6064\n",
      "Epoch   1 Batch  150/538 - Train Accuracy: 0.6598, Validation Accuracy: 0.6577, Loss: 0.5521\n",
      "Epoch   1 Batch  160/538 - Train Accuracy: 0.6548, Validation Accuracy: 0.6664, Loss: 0.5263\n",
      "Epoch   1 Batch  170/538 - Train Accuracy: 0.6838, Validation Accuracy: 0.6539, Loss: 0.5252\n",
      "Epoch   1 Batch  180/538 - Train Accuracy: 0.6940, Validation Accuracy: 0.6584, Loss: 0.5156\n",
      "Epoch   1 Batch  190/538 - Train Accuracy: 0.6529, Validation Accuracy: 0.6571, Loss: 0.5279\n",
      "Epoch   1 Batch  200/538 - Train Accuracy: 0.6629, Validation Accuracy: 0.6580, Loss: 0.5028\n",
      "Epoch   1 Batch  210/538 - Train Accuracy: 0.6531, Validation Accuracy: 0.6685, Loss: 0.5043\n",
      "Epoch   1 Batch  220/538 - Train Accuracy: 0.6354, Validation Accuracy: 0.6538, Loss: 0.4817\n",
      "Epoch   1 Batch  230/538 - Train Accuracy: 0.6441, Validation Accuracy: 0.6515, Loss: 0.5068\n",
      "Epoch   1 Batch  240/538 - Train Accuracy: 0.6717, Validation Accuracy: 0.6767, Loss: 0.5039\n",
      "Epoch   1 Batch  250/538 - Train Accuracy: 0.6703, Validation Accuracy: 0.6692, Loss: 0.4833\n",
      "Epoch   1 Batch  260/538 - Train Accuracy: 0.6698, Validation Accuracy: 0.6792, Loss: 0.4812\n",
      "Epoch   1 Batch  270/538 - Train Accuracy: 0.6350, Validation Accuracy: 0.6497, Loss: 0.5023\n",
      "Epoch   1 Batch  280/538 - Train Accuracy: 0.7139, Validation Accuracy: 0.6708, Loss: 0.4553\n",
      "Epoch   1 Batch  290/538 - Train Accuracy: 0.6680, Validation Accuracy: 0.6717, Loss: 0.4704\n",
      "Epoch   1 Batch  300/538 - Train Accuracy: 0.6873, Validation Accuracy: 0.6731, Loss: 0.4522\n",
      "Epoch   1 Batch  310/538 - Train Accuracy: 0.6916, Validation Accuracy: 0.6942, Loss: 0.4457\n",
      "Epoch   1 Batch  320/538 - Train Accuracy: 0.6851, Validation Accuracy: 0.6854, Loss: 0.4379\n",
      "Epoch   1 Batch  330/538 - Train Accuracy: 0.7000, Validation Accuracy: 0.6962, Loss: 0.4067\n",
      "Epoch   1 Batch  340/538 - Train Accuracy: 0.6705, Validation Accuracy: 0.6768, Loss: 0.4348\n",
      "Epoch   1 Batch  350/538 - Train Accuracy: 0.6916, Validation Accuracy: 0.6847, Loss: 0.4297\n",
      "Epoch   1 Batch  360/538 - Train Accuracy: 0.6936, Validation Accuracy: 0.7003, Loss: 0.4247\n",
      "Epoch   1 Batch  370/538 - Train Accuracy: 0.6803, Validation Accuracy: 0.6903, Loss: 0.4145\n",
      "Epoch   1 Batch  380/538 - Train Accuracy: 0.6555, Validation Accuracy: 0.6887, Loss: 0.4044\n",
      "Epoch   1 Batch  390/538 - Train Accuracy: 0.7232, Validation Accuracy: 0.7067, Loss: 0.4015\n",
      "Epoch   1 Batch  400/538 - Train Accuracy: 0.6864, Validation Accuracy: 0.6735, Loss: 0.4042\n",
      "Epoch   1 Batch  410/538 - Train Accuracy: 0.6859, Validation Accuracy: 0.7054, Loss: 0.4075\n",
      "Epoch   1 Batch  420/538 - Train Accuracy: 0.7059, Validation Accuracy: 0.7079, Loss: 0.3810\n",
      "Epoch   1 Batch  430/538 - Train Accuracy: 0.7105, Validation Accuracy: 0.7202, Loss: 0.3728\n",
      "Epoch   1 Batch  440/538 - Train Accuracy: 0.6836, Validation Accuracy: 0.7212, Loss: 0.3921\n",
      "Epoch   1 Batch  450/538 - Train Accuracy: 0.7262, Validation Accuracy: 0.7310, Loss: 0.3670\n",
      "Epoch   1 Batch  460/538 - Train Accuracy: 0.7249, Validation Accuracy: 0.7354, Loss: 0.3473\n",
      "Epoch   1 Batch  470/538 - Train Accuracy: 0.7353, Validation Accuracy: 0.7344, Loss: 0.3309\n",
      "Epoch   1 Batch  480/538 - Train Accuracy: 0.7550, Validation Accuracy: 0.7333, Loss: 0.3190\n",
      "Epoch   1 Batch  490/538 - Train Accuracy: 0.7452, Validation Accuracy: 0.7567, Loss: 0.3282\n",
      "Epoch   1 Batch  500/538 - Train Accuracy: 0.7502, Validation Accuracy: 0.7523, Loss: 0.2979\n",
      "Epoch   1 Batch  510/538 - Train Accuracy: 0.7651, Validation Accuracy: 0.7678, Loss: 0.3108\n",
      "Epoch   1 Batch  520/538 - Train Accuracy: 0.7398, Validation Accuracy: 0.7608, Loss: 0.3230\n",
      "Epoch   1 Batch  530/538 - Train Accuracy: 0.7463, Validation Accuracy: 0.7720, Loss: 0.3210\n",
      "Epoch   2 Batch   10/538 - Train Accuracy: 0.7383, Validation Accuracy: 0.7560, Loss: 0.3160\n",
      "Epoch   2 Batch   20/538 - Train Accuracy: 0.7556, Validation Accuracy: 0.7685, Loss: 0.2984\n",
      "Epoch   2 Batch   30/538 - Train Accuracy: 0.7445, Validation Accuracy: 0.7626, Loss: 0.3170\n",
      "Epoch   2 Batch   40/538 - Train Accuracy: 0.7951, Validation Accuracy: 0.7869, Loss: 0.2474\n",
      "Epoch   2 Batch   50/538 - Train Accuracy: 0.7725, Validation Accuracy: 0.7951, Loss: 0.2736\n",
      "Epoch   2 Batch   60/538 - Train Accuracy: 0.7709, Validation Accuracy: 0.7811, Loss: 0.2749\n",
      "Epoch   2 Batch   70/538 - Train Accuracy: 0.7703, Validation Accuracy: 0.7765, Loss: 0.2635\n",
      "Epoch   2 Batch   80/538 - Train Accuracy: 0.7621, Validation Accuracy: 0.7915, Loss: 0.2899\n",
      "Epoch   2 Batch   90/538 - Train Accuracy: 0.7738, Validation Accuracy: 0.7844, Loss: 0.2787\n",
      "Epoch   2 Batch  100/538 - Train Accuracy: 0.7617, Validation Accuracy: 0.7800, Loss: 0.2450\n",
      "Epoch   2 Batch  110/538 - Train Accuracy: 0.7812, Validation Accuracy: 0.7869, Loss: 0.2462\n",
      "Epoch   2 Batch  120/538 - Train Accuracy: 0.7916, Validation Accuracy: 0.7915, Loss: 0.2325\n",
      "Epoch   2 Batch  130/538 - Train Accuracy: 0.8092, Validation Accuracy: 0.7930, Loss: 0.2213\n",
      "Epoch   2 Batch  140/538 - Train Accuracy: 0.7656, Validation Accuracy: 0.7955, Loss: 0.2557\n",
      "Epoch   2 Batch  150/538 - Train Accuracy: 0.8133, Validation Accuracy: 0.8077, Loss: 0.2261\n",
      "Epoch   2 Batch  160/538 - Train Accuracy: 0.7625, Validation Accuracy: 0.7910, Loss: 0.2121\n",
      "Epoch   2 Batch  170/538 - Train Accuracy: 0.7915, Validation Accuracy: 0.8013, Loss: 0.2283\n",
      "Epoch   2 Batch  180/538 - Train Accuracy: 0.8179, Validation Accuracy: 0.7969, Loss: 0.2167\n",
      "Epoch   2 Batch  190/538 - Train Accuracy: 0.8106, Validation Accuracy: 0.8011, Loss: 0.2425\n",
      "Epoch   2 Batch  200/538 - Train Accuracy: 0.8053, Validation Accuracy: 0.7969, Loss: 0.2089\n",
      "Epoch   2 Batch  210/538 - Train Accuracy: 0.7831, Validation Accuracy: 0.8169, Loss: 0.2147\n",
      "Epoch   2 Batch  220/538 - Train Accuracy: 0.7533, Validation Accuracy: 0.7809, Loss: 0.1991\n",
      "Epoch   2 Batch  230/538 - Train Accuracy: 0.8092, Validation Accuracy: 0.7887, Loss: 0.2066\n",
      "Epoch   2 Batch  240/538 - Train Accuracy: 0.8080, Validation Accuracy: 0.8104, Loss: 0.2013\n",
      "Epoch   2 Batch  250/538 - Train Accuracy: 0.8264, Validation Accuracy: 0.8145, Loss: 0.2001\n",
      "Epoch   2 Batch  260/538 - Train Accuracy: 0.7924, Validation Accuracy: 0.8146, Loss: 0.1872\n",
      "Epoch   2 Batch  270/538 - Train Accuracy: 0.7992, Validation Accuracy: 0.8059, Loss: 0.1929\n",
      "Epoch   2 Batch  280/538 - Train Accuracy: 0.8488, Validation Accuracy: 0.8196, Loss: 0.1767\n",
      "Epoch   2 Batch  290/538 - Train Accuracy: 0.8098, Validation Accuracy: 0.7995, Loss: 0.1838\n",
      "Epoch   2 Batch  300/538 - Train Accuracy: 0.8086, Validation Accuracy: 0.8074, Loss: 0.1784\n",
      "Epoch   2 Batch  310/538 - Train Accuracy: 0.8418, Validation Accuracy: 0.8228, Loss: 0.1828\n",
      "Epoch   2 Batch  320/538 - Train Accuracy: 0.8123, Validation Accuracy: 0.8411, Loss: 0.1745\n",
      "Epoch   2 Batch  330/538 - Train Accuracy: 0.8302, Validation Accuracy: 0.8125, Loss: 0.1663\n",
      "Epoch   2 Batch  340/538 - Train Accuracy: 0.8180, Validation Accuracy: 0.8233, Loss: 0.1787\n",
      "Epoch   2 Batch  350/538 - Train Accuracy: 0.8311, Validation Accuracy: 0.8265, Loss: 0.1763\n",
      "Epoch   2 Batch  360/538 - Train Accuracy: 0.8252, Validation Accuracy: 0.8358, Loss: 0.1740\n",
      "Epoch   2 Batch  370/538 - Train Accuracy: 0.8207, Validation Accuracy: 0.8294, Loss: 0.1779\n",
      "Epoch   2 Batch  380/538 - Train Accuracy: 0.8234, Validation Accuracy: 0.8459, Loss: 0.1480\n",
      "Epoch   2 Batch  390/538 - Train Accuracy: 0.8557, Validation Accuracy: 0.8491, Loss: 0.1470\n",
      "Epoch   2 Batch  400/538 - Train Accuracy: 0.8510, Validation Accuracy: 0.8553, Loss: 0.1597\n",
      "Epoch   2 Batch  410/538 - Train Accuracy: 0.8387, Validation Accuracy: 0.8553, Loss: 0.1594\n",
      "Epoch   2 Batch  420/538 - Train Accuracy: 0.8457, Validation Accuracy: 0.8649, Loss: 0.1474\n",
      "Epoch   2 Batch  430/538 - Train Accuracy: 0.8439, Validation Accuracy: 0.8603, Loss: 0.1459\n",
      "Epoch   2 Batch  440/538 - Train Accuracy: 0.8393, Validation Accuracy: 0.8514, Loss: 0.1629\n",
      "Epoch   2 Batch  450/538 - Train Accuracy: 0.8490, Validation Accuracy: 0.8436, Loss: 0.1539\n",
      "Epoch   2 Batch  460/538 - Train Accuracy: 0.8491, Validation Accuracy: 0.8567, Loss: 0.1390\n",
      "Epoch   2 Batch  470/538 - Train Accuracy: 0.8571, Validation Accuracy: 0.8572, Loss: 0.1380\n",
      "Epoch   2 Batch  480/538 - Train Accuracy: 0.8854, Validation Accuracy: 0.8571, Loss: 0.1299\n",
      "Epoch   2 Batch  490/538 - Train Accuracy: 0.8860, Validation Accuracy: 0.8553, Loss: 0.1294\n",
      "Epoch   2 Batch  500/538 - Train Accuracy: 0.9059, Validation Accuracy: 0.8638, Loss: 0.1120\n",
      "Epoch   2 Batch  510/538 - Train Accuracy: 0.8823, Validation Accuracy: 0.8720, Loss: 0.1286\n",
      "Epoch   2 Batch  520/538 - Train Accuracy: 0.8688, Validation Accuracy: 0.8668, Loss: 0.1310\n",
      "Epoch   2 Batch  530/538 - Train Accuracy: 0.8520, Validation Accuracy: 0.8604, Loss: 0.1332\n",
      "Epoch   3 Batch   10/538 - Train Accuracy: 0.8730, Validation Accuracy: 0.8773, Loss: 0.1223\n",
      "Epoch   3 Batch   20/538 - Train Accuracy: 0.8824, Validation Accuracy: 0.8816, Loss: 0.1238\n",
      "Epoch   3 Batch   30/538 - Train Accuracy: 0.8887, Validation Accuracy: 0.8800, Loss: 0.1269\n",
      "Epoch   3 Batch   40/538 - Train Accuracy: 0.9110, Validation Accuracy: 0.8844, Loss: 0.0992\n",
      "Epoch   3 Batch   50/538 - Train Accuracy: 0.9039, Validation Accuracy: 0.8839, Loss: 0.1039\n",
      "Epoch   3 Batch   60/538 - Train Accuracy: 0.9074, Validation Accuracy: 0.8919, Loss: 0.1077\n",
      "Epoch   3 Batch   70/538 - Train Accuracy: 0.9001, Validation Accuracy: 0.8796, Loss: 0.1060\n",
      "Epoch   3 Batch   80/538 - Train Accuracy: 0.8924, Validation Accuracy: 0.8807, Loss: 0.1256\n",
      "Epoch   3 Batch   90/538 - Train Accuracy: 0.8934, Validation Accuracy: 0.8965, Loss: 0.1139\n",
      "Epoch   3 Batch  100/538 - Train Accuracy: 0.8971, Validation Accuracy: 0.8865, Loss: 0.1029\n",
      "Epoch   3 Batch  110/538 - Train Accuracy: 0.9051, Validation Accuracy: 0.8816, Loss: 0.1036\n",
      "Epoch   3 Batch  120/538 - Train Accuracy: 0.9133, Validation Accuracy: 0.8922, Loss: 0.0888\n",
      "Epoch   3 Batch  130/538 - Train Accuracy: 0.9243, Validation Accuracy: 0.8919, Loss: 0.0921\n",
      "Epoch   3 Batch  140/538 - Train Accuracy: 0.8822, Validation Accuracy: 0.8919, Loss: 0.1074\n",
      "Epoch   3 Batch  150/538 - Train Accuracy: 0.9256, Validation Accuracy: 0.9000, Loss: 0.0949\n",
      "Epoch   3 Batch  160/538 - Train Accuracy: 0.9081, Validation Accuracy: 0.8975, Loss: 0.0907\n",
      "Epoch   3 Batch  170/538 - Train Accuracy: 0.8955, Validation Accuracy: 0.8757, Loss: 0.1007\n",
      "Epoch   3 Batch  180/538 - Train Accuracy: 0.9314, Validation Accuracy: 0.8741, Loss: 0.0880\n",
      "Epoch   3 Batch  190/538 - Train Accuracy: 0.9044, Validation Accuracy: 0.8801, Loss: 0.1178\n",
      "Epoch   3 Batch  200/538 - Train Accuracy: 0.9016, Validation Accuracy: 0.8967, Loss: 0.0789\n",
      "Epoch   3 Batch  210/538 - Train Accuracy: 0.8847, Validation Accuracy: 0.8977, Loss: 0.0922\n",
      "Epoch   3 Batch  220/538 - Train Accuracy: 0.8955, Validation Accuracy: 0.8885, Loss: 0.0837\n",
      "Epoch   3 Batch  230/538 - Train Accuracy: 0.9072, Validation Accuracy: 0.8991, Loss: 0.0829\n",
      "Epoch   3 Batch  240/538 - Train Accuracy: 0.9102, Validation Accuracy: 0.8970, Loss: 0.0953\n",
      "Epoch   3 Batch  250/538 - Train Accuracy: 0.9195, Validation Accuracy: 0.9020, Loss: 0.0776\n",
      "Epoch   3 Batch  260/538 - Train Accuracy: 0.8899, Validation Accuracy: 0.8972, Loss: 0.0907\n",
      "Epoch   3 Batch  270/538 - Train Accuracy: 0.9072, Validation Accuracy: 0.8993, Loss: 0.0874\n",
      "Epoch   3 Batch  280/538 - Train Accuracy: 0.9328, Validation Accuracy: 0.9038, Loss: 0.0787\n",
      "Epoch   3 Batch  290/538 - Train Accuracy: 0.9197, Validation Accuracy: 0.9132, Loss: 0.0728\n",
      "Epoch   3 Batch  300/538 - Train Accuracy: 0.9360, Validation Accuracy: 0.9055, Loss: 0.0843\n",
      "Epoch   3 Batch  310/538 - Train Accuracy: 0.9332, Validation Accuracy: 0.9242, Loss: 0.0804\n",
      "Epoch   3 Batch  320/538 - Train Accuracy: 0.9217, Validation Accuracy: 0.9126, Loss: 0.0738\n",
      "Epoch   3 Batch  330/538 - Train Accuracy: 0.9319, Validation Accuracy: 0.9119, Loss: 0.0660\n",
      "Epoch   3 Batch  340/538 - Train Accuracy: 0.9074, Validation Accuracy: 0.9187, Loss: 0.0808\n",
      "Epoch   3 Batch  350/538 - Train Accuracy: 0.9289, Validation Accuracy: 0.9015, Loss: 0.0853\n",
      "Epoch   3 Batch  360/538 - Train Accuracy: 0.9324, Validation Accuracy: 0.9222, Loss: 0.0712\n",
      "Epoch   3 Batch  370/538 - Train Accuracy: 0.9053, Validation Accuracy: 0.9180, Loss: 0.0718\n",
      "Epoch   3 Batch  380/538 - Train Accuracy: 0.9207, Validation Accuracy: 0.9189, Loss: 0.0709\n",
      "Epoch   3 Batch  390/538 - Train Accuracy: 0.9368, Validation Accuracy: 0.9087, Loss: 0.0580\n",
      "Epoch   3 Batch  400/538 - Train Accuracy: 0.9412, Validation Accuracy: 0.9075, Loss: 0.0787\n",
      "Epoch   3 Batch  410/538 - Train Accuracy: 0.9244, Validation Accuracy: 0.9164, Loss: 0.0831\n",
      "Epoch   3 Batch  420/538 - Train Accuracy: 0.9420, Validation Accuracy: 0.9272, Loss: 0.0655\n",
      "Epoch   3 Batch  430/538 - Train Accuracy: 0.8984, Validation Accuracy: 0.9206, Loss: 0.0678\n",
      "Epoch   3 Batch  440/538 - Train Accuracy: 0.9176, Validation Accuracy: 0.9180, Loss: 0.0899\n",
      "Epoch   3 Batch  450/538 - Train Accuracy: 0.9224, Validation Accuracy: 0.9150, Loss: 0.0788\n",
      "Epoch   3 Batch  460/538 - Train Accuracy: 0.9180, Validation Accuracy: 0.9135, Loss: 0.0749\n",
      "Epoch   3 Batch  470/538 - Train Accuracy: 0.9425, Validation Accuracy: 0.9180, Loss: 0.0665\n",
      "Epoch   3 Batch  480/538 - Train Accuracy: 0.9503, Validation Accuracy: 0.9279, Loss: 0.0639\n",
      "Epoch   3 Batch  490/538 - Train Accuracy: 0.9304, Validation Accuracy: 0.9233, Loss: 0.0610\n",
      "Epoch   3 Batch  500/538 - Train Accuracy: 0.9450, Validation Accuracy: 0.9192, Loss: 0.0457\n",
      "Epoch   3 Batch  510/538 - Train Accuracy: 0.9295, Validation Accuracy: 0.9215, Loss: 0.0627\n",
      "Epoch   3 Batch  520/538 - Train Accuracy: 0.9318, Validation Accuracy: 0.9173, Loss: 0.0641\n",
      "Epoch   3 Batch  530/538 - Train Accuracy: 0.9211, Validation Accuracy: 0.9217, Loss: 0.0698\n",
      "Epoch   4 Batch   10/538 - Train Accuracy: 0.9371, Validation Accuracy: 0.9210, Loss: 0.0606\n",
      "Epoch   4 Batch   20/538 - Train Accuracy: 0.9403, Validation Accuracy: 0.9231, Loss: 0.0636\n",
      "Epoch   4 Batch   30/538 - Train Accuracy: 0.9332, Validation Accuracy: 0.9251, Loss: 0.0715\n",
      "Epoch   4 Batch   40/538 - Train Accuracy: 0.9329, Validation Accuracy: 0.9160, Loss: 0.0469\n",
      "Epoch   4 Batch   50/538 - Train Accuracy: 0.9127, Validation Accuracy: 0.8842, Loss: 0.2049\n",
      "Epoch   4 Batch   60/538 - Train Accuracy: 0.8570, Validation Accuracy: 0.8738, Loss: 0.2011\n",
      "Epoch   4 Batch   70/538 - Train Accuracy: 0.8733, Validation Accuracy: 0.8844, Loss: 0.1594\n",
      "Epoch   4 Batch   80/538 - Train Accuracy: 0.9244, Validation Accuracy: 0.9018, Loss: 0.1132\n",
      "Epoch   4 Batch   90/538 - Train Accuracy: 0.9180, Validation Accuracy: 0.9142, Loss: 0.0871\n",
      "Epoch   4 Batch  100/538 - Train Accuracy: 0.9262, Validation Accuracy: 0.9144, Loss: 0.0683\n",
      "Epoch   4 Batch  110/538 - Train Accuracy: 0.9020, Validation Accuracy: 0.9196, Loss: 0.0694\n",
      "Epoch   4 Batch  120/538 - Train Accuracy: 0.9437, Validation Accuracy: 0.9377, Loss: 0.0522\n",
      "Epoch   4 Batch  130/538 - Train Accuracy: 0.9379, Validation Accuracy: 0.9357, Loss: 0.0556\n",
      "Epoch   4 Batch  140/538 - Train Accuracy: 0.9146, Validation Accuracy: 0.9206, Loss: 0.0803\n",
      "Epoch   4 Batch  150/538 - Train Accuracy: 0.9396, Validation Accuracy: 0.9325, Loss: 0.0534\n",
      "Epoch   4 Batch  160/538 - Train Accuracy: 0.9235, Validation Accuracy: 0.9343, Loss: 0.0510\n",
      "Epoch   4 Batch  170/538 - Train Accuracy: 0.9100, Validation Accuracy: 0.9158, Loss: 0.0650\n",
      "Epoch   4 Batch  180/538 - Train Accuracy: 0.9395, Validation Accuracy: 0.9238, Loss: 0.0582\n",
      "Epoch   4 Batch  190/538 - Train Accuracy: 0.9182, Validation Accuracy: 0.9316, Loss: 0.0732\n",
      "Epoch   4 Batch  200/538 - Train Accuracy: 0.9527, Validation Accuracy: 0.9318, Loss: 0.0438\n",
      "Epoch   4 Batch  210/538 - Train Accuracy: 0.9135, Validation Accuracy: 0.9409, Loss: 0.0564\n",
      "Epoch   4 Batch  220/538 - Train Accuracy: 0.9254, Validation Accuracy: 0.9308, Loss: 0.0544\n",
      "Epoch   4 Batch  230/538 - Train Accuracy: 0.9244, Validation Accuracy: 0.9299, Loss: 0.0523\n",
      "Epoch   4 Batch  240/538 - Train Accuracy: 0.9389, Validation Accuracy: 0.9425, Loss: 0.0530\n",
      "Epoch   4 Batch  250/538 - Train Accuracy: 0.9500, Validation Accuracy: 0.9324, Loss: 0.0523\n",
      "Epoch   4 Batch  260/538 - Train Accuracy: 0.9150, Validation Accuracy: 0.9352, Loss: 0.0553\n",
      "Epoch   4 Batch  270/538 - Train Accuracy: 0.9355, Validation Accuracy: 0.9217, Loss: 0.0490\n",
      "Epoch   4 Batch  280/538 - Train Accuracy: 0.9615, Validation Accuracy: 0.9213, Loss: 0.0444\n",
      "Epoch   4 Batch  290/538 - Train Accuracy: 0.9531, Validation Accuracy: 0.9432, Loss: 0.0456\n",
      "Epoch   4 Batch  300/538 - Train Accuracy: 0.9453, Validation Accuracy: 0.9395, Loss: 0.0553\n",
      "Epoch   4 Batch  310/538 - Train Accuracy: 0.9553, Validation Accuracy: 0.9464, Loss: 0.0494\n",
      "Epoch   4 Batch  320/538 - Train Accuracy: 0.9479, Validation Accuracy: 0.9439, Loss: 0.0392\n",
      "Epoch   4 Batch  330/538 - Train Accuracy: 0.9498, Validation Accuracy: 0.9400, Loss: 0.0434\n",
      "Epoch   4 Batch  340/538 - Train Accuracy: 0.9293, Validation Accuracy: 0.9469, Loss: 0.0568\n",
      "Epoch   4 Batch  350/538 - Train Accuracy: 0.9552, Validation Accuracy: 0.9387, Loss: 0.0552\n",
      "Epoch   4 Batch  360/538 - Train Accuracy: 0.9410, Validation Accuracy: 0.9441, Loss: 0.0468\n",
      "Epoch   4 Batch  370/538 - Train Accuracy: 0.9461, Validation Accuracy: 0.9419, Loss: 0.0522\n",
      "Epoch   4 Batch  380/538 - Train Accuracy: 0.9334, Validation Accuracy: 0.9361, Loss: 0.0384\n",
      "Epoch   4 Batch  390/538 - Train Accuracy: 0.9474, Validation Accuracy: 0.9458, Loss: 0.0418\n",
      "Epoch   4 Batch  400/538 - Train Accuracy: 0.9526, Validation Accuracy: 0.9416, Loss: 0.0501\n",
      "Epoch   4 Batch  410/538 - Train Accuracy: 0.9504, Validation Accuracy: 0.9442, Loss: 0.0456\n",
      "Epoch   4 Batch  420/538 - Train Accuracy: 0.9467, Validation Accuracy: 0.9379, Loss: 0.0508\n",
      "Epoch   4 Batch  430/538 - Train Accuracy: 0.9176, Validation Accuracy: 0.9293, Loss: 0.0471\n",
      "Epoch   4 Batch  440/538 - Train Accuracy: 0.9488, Validation Accuracy: 0.9267, Loss: 0.0439\n",
      "Epoch   4 Batch  450/538 - Train Accuracy: 0.9247, Validation Accuracy: 0.9453, Loss: 0.0592\n",
      "Epoch   4 Batch  460/538 - Train Accuracy: 0.9358, Validation Accuracy: 0.9528, Loss: 0.0436\n",
      "Epoch   4 Batch  470/538 - Train Accuracy: 0.9522, Validation Accuracy: 0.9437, Loss: 0.0460\n",
      "Epoch   4 Batch  480/538 - Train Accuracy: 0.9606, Validation Accuracy: 0.9437, Loss: 0.0383\n",
      "Epoch   4 Batch  490/538 - Train Accuracy: 0.9561, Validation Accuracy: 0.9444, Loss: 0.0446\n",
      "Epoch   4 Batch  500/538 - Train Accuracy: 0.9613, Validation Accuracy: 0.9441, Loss: 0.0335\n",
      "Epoch   4 Batch  510/538 - Train Accuracy: 0.9449, Validation Accuracy: 0.9439, Loss: 0.0450\n",
      "Epoch   4 Batch  520/538 - Train Accuracy: 0.9553, Validation Accuracy: 0.9395, Loss: 0.0462\n",
      "Epoch   4 Batch  530/538 - Train Accuracy: 0.9361, Validation Accuracy: 0.9549, Loss: 0.0443\n",
      "Epoch   5 Batch   10/538 - Train Accuracy: 0.9480, Validation Accuracy: 0.9478, Loss: 0.0423\n",
      "Epoch   5 Batch   20/538 - Train Accuracy: 0.9542, Validation Accuracy: 0.9498, Loss: 0.0481\n",
      "Epoch   5 Batch   30/538 - Train Accuracy: 0.9477, Validation Accuracy: 0.9485, Loss: 0.0493\n",
      "Epoch   5 Batch   40/538 - Train Accuracy: 0.9565, Validation Accuracy: 0.9444, Loss: 0.0350\n",
      "Epoch   5 Batch   50/538 - Train Accuracy: 0.9514, Validation Accuracy: 0.9540, Loss: 0.0383\n",
      "Epoch   5 Batch   60/538 - Train Accuracy: 0.9473, Validation Accuracy: 0.9299, Loss: 0.0421\n",
      "Epoch   5 Batch   70/538 - Train Accuracy: 0.9567, Validation Accuracy: 0.9471, Loss: 0.0381\n",
      "Epoch   5 Batch   80/538 - Train Accuracy: 0.9643, Validation Accuracy: 0.9441, Loss: 0.0426\n",
      "Epoch   5 Batch   90/538 - Train Accuracy: 0.9572, Validation Accuracy: 0.9379, Loss: 0.0420\n",
      "Epoch   5 Batch  100/538 - Train Accuracy: 0.9656, Validation Accuracy: 0.9446, Loss: 0.0365\n",
      "Epoch   5 Batch  110/538 - Train Accuracy: 0.9531, Validation Accuracy: 0.9368, Loss: 0.0388\n",
      "Epoch   5 Batch  120/538 - Train Accuracy: 0.9717, Validation Accuracy: 0.9576, Loss: 0.0350\n",
      "Epoch   5 Batch  130/538 - Train Accuracy: 0.9596, Validation Accuracy: 0.9576, Loss: 0.0345\n",
      "Epoch   5 Batch  140/538 - Train Accuracy: 0.9479, Validation Accuracy: 0.9435, Loss: 0.0535\n",
      "Epoch   5 Batch  150/538 - Train Accuracy: 0.9660, Validation Accuracy: 0.9464, Loss: 0.0352\n",
      "Epoch   5 Batch  160/538 - Train Accuracy: 0.9321, Validation Accuracy: 0.9425, Loss: 0.0412\n",
      "Epoch   5 Batch  170/538 - Train Accuracy: 0.9394, Validation Accuracy: 0.9581, Loss: 0.0463\n",
      "Epoch   5 Batch  180/538 - Train Accuracy: 0.9557, Validation Accuracy: 0.9498, Loss: 0.0388\n",
      "Epoch   5 Batch  190/538 - Train Accuracy: 0.9431, Validation Accuracy: 0.9496, Loss: 0.0542\n",
      "Epoch   5 Batch  200/538 - Train Accuracy: 0.9637, Validation Accuracy: 0.9538, Loss: 0.0314\n",
      "Epoch   5 Batch  210/538 - Train Accuracy: 0.9433, Validation Accuracy: 0.9490, Loss: 0.0411\n",
      "Epoch   5 Batch  220/538 - Train Accuracy: 0.9433, Validation Accuracy: 0.9577, Loss: 0.0390\n",
      "Epoch   5 Batch  230/538 - Train Accuracy: 0.9625, Validation Accuracy: 0.9600, Loss: 0.0413\n",
      "Epoch   5 Batch  240/538 - Train Accuracy: 0.9521, Validation Accuracy: 0.9535, Loss: 0.0432\n",
      "Epoch   5 Batch  250/538 - Train Accuracy: 0.9584, Validation Accuracy: 0.9387, Loss: 0.0406\n",
      "Epoch   5 Batch  260/538 - Train Accuracy: 0.9451, Validation Accuracy: 0.9386, Loss: 0.0429\n",
      "Epoch   5 Batch  270/538 - Train Accuracy: 0.9609, Validation Accuracy: 0.9535, Loss: 0.0313\n",
      "Epoch   5 Batch  280/538 - Train Accuracy: 0.9660, Validation Accuracy: 0.9348, Loss: 0.0361\n",
      "Epoch   5 Batch  290/538 - Train Accuracy: 0.9652, Validation Accuracy: 0.9501, Loss: 0.0386\n",
      "Epoch   5 Batch  300/538 - Train Accuracy: 0.9581, Validation Accuracy: 0.9517, Loss: 0.0402\n",
      "Epoch   5 Batch  310/538 - Train Accuracy: 0.9619, Validation Accuracy: 0.9632, Loss: 0.0410\n",
      "Epoch   5 Batch  320/538 - Train Accuracy: 0.9581, Validation Accuracy: 0.9425, Loss: 0.0295\n",
      "Epoch   5 Batch  330/538 - Train Accuracy: 0.9674, Validation Accuracy: 0.9597, Loss: 0.0311\n",
      "Epoch   5 Batch  340/538 - Train Accuracy: 0.9506, Validation Accuracy: 0.9572, Loss: 0.0378\n",
      "Epoch   5 Batch  350/538 - Train Accuracy: 0.9589, Validation Accuracy: 0.9458, Loss: 0.0411\n",
      "Epoch   5 Batch  360/538 - Train Accuracy: 0.9664, Validation Accuracy: 0.9494, Loss: 0.0341\n",
      "Epoch   5 Batch  370/538 - Train Accuracy: 0.9631, Validation Accuracy: 0.9526, Loss: 0.0426\n",
      "Epoch   5 Batch  380/538 - Train Accuracy: 0.9697, Validation Accuracy: 0.9455, Loss: 0.0314\n",
      "Epoch   5 Batch  390/538 - Train Accuracy: 0.9600, Validation Accuracy: 0.9647, Loss: 0.0318\n",
      "Epoch   5 Batch  400/538 - Train Accuracy: 0.9617, Validation Accuracy: 0.9581, Loss: 0.0357\n",
      "Epoch   5 Batch  410/538 - Train Accuracy: 0.9639, Validation Accuracy: 0.9622, Loss: 0.0335\n",
      "Epoch   5 Batch  420/538 - Train Accuracy: 0.9582, Validation Accuracy: 0.9501, Loss: 0.0312\n",
      "Epoch   5 Batch  430/538 - Train Accuracy: 0.9387, Validation Accuracy: 0.9657, Loss: 0.0389\n",
      "Epoch   5 Batch  440/538 - Train Accuracy: 0.9643, Validation Accuracy: 0.9620, Loss: 0.0376\n",
      "Epoch   5 Batch  450/538 - Train Accuracy: 0.9418, Validation Accuracy: 0.9529, Loss: 0.0474\n",
      "Epoch   5 Batch  460/538 - Train Accuracy: 0.9593, Validation Accuracy: 0.9533, Loss: 0.0424\n",
      "Epoch   5 Batch  470/538 - Train Accuracy: 0.9507, Validation Accuracy: 0.9558, Loss: 0.0560\n",
      "Epoch   5 Batch  480/538 - Train Accuracy: 0.9656, Validation Accuracy: 0.9478, Loss: 0.0575\n",
      "Epoch   5 Batch  490/538 - Train Accuracy: 0.9544, Validation Accuracy: 0.9428, Loss: 0.0507\n",
      "Epoch   5 Batch  500/538 - Train Accuracy: 0.9732, Validation Accuracy: 0.9482, Loss: 0.0324\n",
      "Epoch   5 Batch  510/538 - Train Accuracy: 0.9602, Validation Accuracy: 0.9441, Loss: 0.0442\n",
      "Epoch   5 Batch  520/538 - Train Accuracy: 0.9631, Validation Accuracy: 0.9425, Loss: 0.0442\n",
      "Epoch   5 Batch  530/538 - Train Accuracy: 0.9225, Validation Accuracy: 0.9384, Loss: 0.0717\n",
      "Epoch   6 Batch   10/538 - Train Accuracy: 0.9434, Validation Accuracy: 0.9396, Loss: 0.0606\n",
      "Epoch   6 Batch   20/538 - Train Accuracy: 0.9548, Validation Accuracy: 0.9508, Loss: 0.0425\n",
      "Epoch   6 Batch   30/538 - Train Accuracy: 0.9381, Validation Accuracy: 0.9576, Loss: 0.0486\n",
      "Epoch   6 Batch   40/538 - Train Accuracy: 0.9659, Validation Accuracy: 0.9569, Loss: 0.0323\n",
      "Epoch   6 Batch   50/538 - Train Accuracy: 0.9576, Validation Accuracy: 0.9450, Loss: 0.0338\n",
      "Epoch   6 Batch   60/538 - Train Accuracy: 0.9453, Validation Accuracy: 0.9517, Loss: 0.0416\n",
      "Epoch   6 Batch   70/538 - Train Accuracy: 0.9639, Validation Accuracy: 0.9553, Loss: 0.0324\n",
      "Epoch   6 Batch   80/538 - Train Accuracy: 0.9730, Validation Accuracy: 0.9648, Loss: 0.0365\n",
      "Epoch   6 Batch   90/538 - Train Accuracy: 0.9658, Validation Accuracy: 0.9567, Loss: 0.0348\n",
      "Epoch   6 Batch  100/538 - Train Accuracy: 0.9732, Validation Accuracy: 0.9407, Loss: 0.0270\n",
      "Epoch   6 Batch  110/538 - Train Accuracy: 0.9600, Validation Accuracy: 0.9529, Loss: 0.0306\n",
      "Epoch   6 Batch  120/538 - Train Accuracy: 0.9691, Validation Accuracy: 0.9487, Loss: 0.0274\n",
      "Epoch   6 Batch  130/538 - Train Accuracy: 0.9634, Validation Accuracy: 0.9572, Loss: 0.0259\n",
      "Epoch   6 Batch  140/538 - Train Accuracy: 0.9508, Validation Accuracy: 0.9460, Loss: 0.0424\n",
      "Epoch   6 Batch  150/538 - Train Accuracy: 0.9598, Validation Accuracy: 0.9597, Loss: 0.0277\n",
      "Epoch   6 Batch  160/538 - Train Accuracy: 0.9496, Validation Accuracy: 0.9513, Loss: 0.0285\n",
      "Epoch   6 Batch  170/538 - Train Accuracy: 0.9511, Validation Accuracy: 0.9698, Loss: 0.0339\n",
      "Epoch   6 Batch  180/538 - Train Accuracy: 0.9546, Validation Accuracy: 0.9553, Loss: 0.0328\n",
      "Epoch   6 Batch  190/538 - Train Accuracy: 0.9533, Validation Accuracy: 0.9492, Loss: 0.0430\n",
      "Epoch   6 Batch  200/538 - Train Accuracy: 0.9748, Validation Accuracy: 0.9560, Loss: 0.0246\n",
      "Epoch   6 Batch  210/538 - Train Accuracy: 0.9570, Validation Accuracy: 0.9650, Loss: 0.0381\n",
      "Epoch   6 Batch  220/538 - Train Accuracy: 0.9446, Validation Accuracy: 0.9537, Loss: 0.0360\n",
      "Epoch   6 Batch  230/538 - Train Accuracy: 0.9564, Validation Accuracy: 0.9632, Loss: 0.0296\n",
      "Epoch   6 Batch  240/538 - Train Accuracy: 0.9514, Validation Accuracy: 0.9625, Loss: 0.0370\n",
      "Epoch   6 Batch  250/538 - Train Accuracy: 0.9770, Validation Accuracy: 0.9503, Loss: 0.0345\n",
      "Epoch   6 Batch  260/538 - Train Accuracy: 0.9435, Validation Accuracy: 0.9556, Loss: 0.0323\n",
      "Epoch   6 Batch  270/538 - Train Accuracy: 0.9588, Validation Accuracy: 0.9670, Loss: 0.0299\n",
      "Epoch   6 Batch  280/538 - Train Accuracy: 0.9790, Validation Accuracy: 0.9522, Loss: 0.0348\n",
      "Epoch   6 Batch  290/538 - Train Accuracy: 0.9791, Validation Accuracy: 0.9688, Loss: 0.0209\n",
      "Epoch   6 Batch  300/538 - Train Accuracy: 0.9667, Validation Accuracy: 0.9680, Loss: 0.0317\n",
      "Epoch   6 Batch  310/538 - Train Accuracy: 0.9639, Validation Accuracy: 0.9672, Loss: 0.0302\n",
      "Epoch   6 Batch  320/538 - Train Accuracy: 0.9781, Validation Accuracy: 0.9620, Loss: 0.0242\n",
      "Epoch   6 Batch  330/538 - Train Accuracy: 0.9756, Validation Accuracy: 0.9741, Loss: 0.0260\n",
      "Epoch   6 Batch  340/538 - Train Accuracy: 0.9549, Validation Accuracy: 0.9675, Loss: 0.0360\n",
      "Epoch   6 Batch  350/538 - Train Accuracy: 0.9695, Validation Accuracy: 0.9640, Loss: 0.0307\n",
      "Epoch   6 Batch  360/538 - Train Accuracy: 0.9748, Validation Accuracy: 0.9664, Loss: 0.0222\n",
      "Epoch   6 Batch  370/538 - Train Accuracy: 0.9689, Validation Accuracy: 0.9664, Loss: 0.0314\n",
      "Epoch   6 Batch  380/538 - Train Accuracy: 0.9703, Validation Accuracy: 0.9762, Loss: 0.0209\n",
      "Epoch   6 Batch  390/538 - Train Accuracy: 0.9736, Validation Accuracy: 0.9666, Loss: 0.0237\n",
      "Epoch   6 Batch  400/538 - Train Accuracy: 0.9719, Validation Accuracy: 0.9554, Loss: 0.0301\n",
      "Epoch   6 Batch  410/538 - Train Accuracy: 0.9764, Validation Accuracy: 0.9689, Loss: 0.0278\n",
      "Epoch   6 Batch  420/538 - Train Accuracy: 0.9730, Validation Accuracy: 0.9712, Loss: 0.0292\n",
      "Epoch   6 Batch  430/538 - Train Accuracy: 0.9512, Validation Accuracy: 0.9689, Loss: 0.0278\n",
      "Epoch   6 Batch  440/538 - Train Accuracy: 0.9691, Validation Accuracy: 0.9609, Loss: 0.0279\n",
      "Epoch   6 Batch  450/538 - Train Accuracy: 0.9526, Validation Accuracy: 0.9666, Loss: 0.0363\n",
      "Epoch   6 Batch  460/538 - Train Accuracy: 0.9650, Validation Accuracy: 0.9553, Loss: 0.0239\n",
      "Epoch   6 Batch  470/538 - Train Accuracy: 0.9708, Validation Accuracy: 0.9647, Loss: 0.0263\n",
      "Epoch   6 Batch  480/538 - Train Accuracy: 0.9704, Validation Accuracy: 0.9714, Loss: 0.0264\n",
      "Epoch   6 Batch  490/538 - Train Accuracy: 0.9676, Validation Accuracy: 0.9636, Loss: 0.0249\n",
      "Epoch   6 Batch  500/538 - Train Accuracy: 0.9688, Validation Accuracy: 0.9531, Loss: 0.0233\n",
      "Epoch   6 Batch  510/538 - Train Accuracy: 0.9808, Validation Accuracy: 0.9563, Loss: 0.0263\n",
      "Epoch   6 Batch  520/538 - Train Accuracy: 0.9709, Validation Accuracy: 0.9636, Loss: 0.0302\n",
      "Epoch   6 Batch  530/538 - Train Accuracy: 0.9639, Validation Accuracy: 0.9702, Loss: 0.0284\n",
      "Epoch   7 Batch   10/538 - Train Accuracy: 0.9564, Validation Accuracy: 0.9703, Loss: 0.0279\n",
      "Epoch   7 Batch   20/538 - Train Accuracy: 0.9637, Validation Accuracy: 0.9634, Loss: 0.0310\n",
      "Epoch   7 Batch   30/538 - Train Accuracy: 0.9641, Validation Accuracy: 0.9673, Loss: 0.0352\n",
      "Epoch   7 Batch   40/538 - Train Accuracy: 0.9666, Validation Accuracy: 0.9636, Loss: 0.0252\n",
      "Epoch   7 Batch   50/538 - Train Accuracy: 0.9762, Validation Accuracy: 0.9636, Loss: 0.0270\n",
      "Epoch   7 Batch   60/538 - Train Accuracy: 0.9633, Validation Accuracy: 0.9634, Loss: 0.0288\n",
      "Epoch   7 Batch   70/538 - Train Accuracy: 0.9734, Validation Accuracy: 0.9616, Loss: 0.0174\n",
      "Epoch   7 Batch   80/538 - Train Accuracy: 0.9752, Validation Accuracy: 0.9677, Loss: 0.0272\n",
      "Epoch   7 Batch   90/538 - Train Accuracy: 0.9753, Validation Accuracy: 0.9648, Loss: 0.0278\n",
      "Epoch   7 Batch  100/538 - Train Accuracy: 0.9678, Validation Accuracy: 0.9709, Loss: 0.0260\n",
      "Epoch   7 Batch  110/538 - Train Accuracy: 0.9637, Validation Accuracy: 0.9624, Loss: 0.0224\n",
      "Epoch   7 Batch  120/538 - Train Accuracy: 0.9707, Validation Accuracy: 0.9666, Loss: 0.0247\n",
      "Epoch   7 Batch  130/538 - Train Accuracy: 0.9639, Validation Accuracy: 0.9581, Loss: 0.0272\n",
      "Epoch   7 Batch  140/538 - Train Accuracy: 0.9607, Validation Accuracy: 0.9590, Loss: 0.0336\n",
      "Epoch   7 Batch  150/538 - Train Accuracy: 0.9779, Validation Accuracy: 0.9677, Loss: 0.0200\n",
      "Epoch   7 Batch  160/538 - Train Accuracy: 0.9591, Validation Accuracy: 0.9659, Loss: 0.0225\n",
      "Epoch   7 Batch  170/538 - Train Accuracy: 0.9531, Validation Accuracy: 0.9664, Loss: 0.0291\n",
      "Epoch   7 Batch  180/538 - Train Accuracy: 0.9743, Validation Accuracy: 0.9638, Loss: 0.0247\n",
      "Epoch   7 Batch  190/538 - Train Accuracy: 0.9546, Validation Accuracy: 0.9680, Loss: 0.0349\n",
      "Epoch   7 Batch  200/538 - Train Accuracy: 0.9775, Validation Accuracy: 0.9680, Loss: 0.0192\n",
      "Epoch   7 Batch  210/538 - Train Accuracy: 0.9719, Validation Accuracy: 0.9672, Loss: 0.0283\n",
      "Epoch   7 Batch  220/538 - Train Accuracy: 0.9546, Validation Accuracy: 0.9524, Loss: 0.0288\n",
      "Epoch   7 Batch  230/538 - Train Accuracy: 0.9703, Validation Accuracy: 0.9650, Loss: 0.0194\n",
      "Epoch   7 Batch  240/538 - Train Accuracy: 0.9654, Validation Accuracy: 0.9652, Loss: 0.0278\n",
      "Epoch   7 Batch  250/538 - Train Accuracy: 0.9740, Validation Accuracy: 0.9616, Loss: 0.0280\n",
      "Epoch   7 Batch  260/538 - Train Accuracy: 0.9572, Validation Accuracy: 0.9588, Loss: 0.0272\n",
      "Epoch   7 Batch  270/538 - Train Accuracy: 0.9693, Validation Accuracy: 0.9686, Loss: 0.0231\n",
      "Epoch   7 Batch  280/538 - Train Accuracy: 0.9801, Validation Accuracy: 0.9608, Loss: 0.0243\n",
      "Epoch   7 Batch  290/538 - Train Accuracy: 0.9803, Validation Accuracy: 0.9696, Loss: 0.0202\n",
      "Epoch   7 Batch  300/538 - Train Accuracy: 0.9734, Validation Accuracy: 0.9727, Loss: 0.0256\n",
      "Epoch   7 Batch  310/538 - Train Accuracy: 0.9805, Validation Accuracy: 0.9668, Loss: 0.0243\n",
      "Epoch   7 Batch  320/538 - Train Accuracy: 0.9673, Validation Accuracy: 0.9577, Loss: 0.0306\n",
      "Epoch   7 Batch  330/538 - Train Accuracy: 0.9764, Validation Accuracy: 0.9586, Loss: 0.0684\n",
      "Epoch   7 Batch  340/538 - Train Accuracy: 0.9596, Validation Accuracy: 0.9583, Loss: 0.0589\n",
      "Epoch   7 Batch  350/538 - Train Accuracy: 0.9682, Validation Accuracy: 0.9529, Loss: 0.0407\n",
      "Epoch   7 Batch  360/538 - Train Accuracy: 0.9717, Validation Accuracy: 0.9597, Loss: 0.0257\n",
      "Epoch   7 Batch  370/538 - Train Accuracy: 0.9713, Validation Accuracy: 0.9551, Loss: 0.0300\n",
      "Epoch   7 Batch  380/538 - Train Accuracy: 0.9734, Validation Accuracy: 0.9657, Loss: 0.0230\n",
      "Epoch   7 Batch  390/538 - Train Accuracy: 0.9706, Validation Accuracy: 0.9680, Loss: 0.0214\n",
      "Epoch   7 Batch  400/538 - Train Accuracy: 0.9699, Validation Accuracy: 0.9672, Loss: 0.0247\n",
      "Epoch   7 Batch  410/538 - Train Accuracy: 0.9834, Validation Accuracy: 0.9545, Loss: 0.0281\n",
      "Epoch   7 Batch  420/538 - Train Accuracy: 0.9701, Validation Accuracy: 0.9631, Loss: 0.0295\n",
      "Epoch   7 Batch  430/538 - Train Accuracy: 0.9602, Validation Accuracy: 0.9664, Loss: 0.0250\n",
      "Epoch   7 Batch  440/538 - Train Accuracy: 0.9768, Validation Accuracy: 0.9709, Loss: 0.0266\n",
      "Epoch   7 Batch  450/538 - Train Accuracy: 0.9609, Validation Accuracy: 0.9629, Loss: 0.0322\n",
      "Epoch   7 Batch  460/538 - Train Accuracy: 0.9615, Validation Accuracy: 0.9643, Loss: 0.0270\n",
      "Epoch   7 Batch  470/538 - Train Accuracy: 0.9688, Validation Accuracy: 0.9705, Loss: 0.0236\n",
      "Epoch   7 Batch  480/538 - Train Accuracy: 0.9760, Validation Accuracy: 0.9647, Loss: 0.0247\n",
      "Epoch   7 Batch  490/538 - Train Accuracy: 0.9691, Validation Accuracy: 0.9647, Loss: 0.0236\n",
      "Epoch   7 Batch  500/538 - Train Accuracy: 0.9762, Validation Accuracy: 0.9616, Loss: 0.0179\n",
      "Epoch   7 Batch  510/538 - Train Accuracy: 0.9714, Validation Accuracy: 0.9574, Loss: 0.0228\n",
      "Epoch   7 Batch  520/538 - Train Accuracy: 0.9717, Validation Accuracy: 0.9682, Loss: 0.0257\n",
      "Epoch   7 Batch  530/538 - Train Accuracy: 0.9768, Validation Accuracy: 0.9629, Loss: 0.0229\n",
      "Model Trained and Saved\n"
     ]
    }
   ],
   "source": [
    "\"\"\"\n",
    "DON'T MODIFY ANYTHING IN THIS CELL\n",
    "\"\"\"\n",
    "def get_accuracy(target, logits):\n",
    "    \"\"\"\n",
    "    Calculate accuracy\n",
    "    \"\"\"\n",
    "    max_seq = max(target.shape[1], logits.shape[1])\n",
    "    if max_seq - target.shape[1]:\n",
    "        target = np.pad(\n",
    "            target,\n",
    "            [(0,0),(0,max_seq - target.shape[1])],\n",
    "            'constant')\n",
    "    if max_seq - logits.shape[1]:\n",
    "        logits = np.pad(\n",
    "            logits,\n",
    "            [(0,0),(0,max_seq - logits.shape[1])],\n",
    "            'constant')\n",
    "\n",
    "    return np.mean(np.equal(target, logits))\n",
    "\n",
    "# Split data to training and validation sets\n",
    "train_source = source_int_text[batch_size:]\n",
    "train_target = target_int_text[batch_size:]\n",
    "valid_source = source_int_text[:batch_size]\n",
    "valid_target = target_int_text[:batch_size]\n",
    "(valid_sources_batch, valid_targets_batch, valid_sources_lengths, valid_targets_lengths ) = next(get_batches(valid_source,\n",
    "                                                                                                             valid_target,\n",
    "                                                                                                             batch_size,\n",
    "                                                                                                             source_vocab_to_int['<PAD>'],\n",
    "                                                                                                             target_vocab_to_int['<PAD>']))                                                                                                  \n",
    "with tf.Session(graph=train_graph) as sess:\n",
    "    sess.run(tf.global_variables_initializer())\n",
    "\n",
    "    for epoch_i in range(epochs):\n",
    "        for batch_i, (source_batch, target_batch, sources_lengths, targets_lengths) in enumerate(\n",
    "                get_batches(train_source, train_target, batch_size,\n",
    "                            source_vocab_to_int['<PAD>'],\n",
    "                            target_vocab_to_int['<PAD>'])):\n",
    "\n",
    "            _, loss = sess.run(\n",
    "                [train_op, cost],\n",
    "                {input_data: source_batch,\n",
    "                 targets: target_batch,\n",
    "                 lr: learning_rate,\n",
    "                 target_sequence_length: targets_lengths,\n",
    "                 source_sequence_length: sources_lengths,\n",
    "                 keep_prob: keep_probability})\n",
    "\n",
    "\n",
    "            if batch_i % display_step == 0 and batch_i > 0:\n",
    "\n",
    "\n",
    "                batch_train_logits = sess.run(\n",
    "                    inference_logits,\n",
    "                    {input_data: source_batch,\n",
    "                     source_sequence_length: sources_lengths,\n",
    "                     target_sequence_length: targets_lengths,\n",
    "                     keep_prob: 1.0})\n",
    "\n",
    "\n",
    "                batch_valid_logits = sess.run(\n",
    "                    inference_logits,\n",
    "                    {input_data: valid_sources_batch,\n",
    "                     source_sequence_length: valid_sources_lengths,\n",
    "                     target_sequence_length: valid_targets_lengths,\n",
    "                     keep_prob: 1.0})\n",
    "\n",
    "                train_acc = get_accuracy(target_batch, batch_train_logits)\n",
    "\n",
    "                valid_acc = get_accuracy(valid_targets_batch, batch_valid_logits)\n",
    "\n",
    "                print('Epoch {:>3} Batch {:>4}/{} - Train Accuracy: {:>6.4f}, Validation Accuracy: {:>6.4f}, Loss: {:>6.4f}'\n",
    "                      .format(epoch_i, batch_i, len(source_int_text) // batch_size, train_acc, valid_acc, loss))\n",
    "\n",
    "    # Save Model\n",
    "    saver = tf.train.Saver()\n",
    "    saver.save(sess, save_path)\n",
    "    print('Model Trained and Saved')"
   ]
  },
  {
   "cell_type": "markdown",
   "metadata": {
    "deletable": true,
    "editable": true
   },
   "source": [
    "### Save Parameters\n",
    "Save the `batch_size` and `save_path` parameters for inference."
   ]
  },
  {
   "cell_type": "code",
   "execution_count": 18,
   "metadata": {
    "collapsed": true,
    "deletable": true,
    "editable": true
   },
   "outputs": [],
   "source": [
    "\"\"\"\n",
    "DON'T MODIFY ANYTHING IN THIS CELL\n",
    "\"\"\"\n",
    "# Save parameters for checkpoint\n",
    "helper.save_params(save_path)"
   ]
  },
  {
   "cell_type": "markdown",
   "metadata": {
    "deletable": true,
    "editable": true
   },
   "source": [
    "# Checkpoint"
   ]
  },
  {
   "cell_type": "code",
   "execution_count": 19,
   "metadata": {
    "collapsed": true,
    "deletable": true,
    "editable": true
   },
   "outputs": [],
   "source": [
    "\"\"\"\n",
    "DON'T MODIFY ANYTHING IN THIS CELL\n",
    "\"\"\"\n",
    "import tensorflow as tf\n",
    "import numpy as np\n",
    "import helper\n",
    "import problem_unittests as tests\n",
    "\n",
    "_, (source_vocab_to_int, target_vocab_to_int), (source_int_to_vocab, target_int_to_vocab) = helper.load_preprocess()\n",
    "load_path = helper.load_params()"
   ]
  },
  {
   "cell_type": "markdown",
   "metadata": {
    "deletable": true,
    "editable": true
   },
   "source": [
    "## Sentence to Sequence\n",
    "To feed a sentence into the model for translation, you first need to preprocess it.  Implement the function `sentence_to_seq()` to preprocess new sentences.\n",
    "\n",
    "- Convert the sentence to lowercase\n",
    "- Convert words into ids using `vocab_to_int`\n",
    " - Convert words not in the vocabulary, to the `<UNK>` word id."
   ]
  },
  {
   "cell_type": "code",
   "execution_count": 20,
   "metadata": {
    "collapsed": false,
    "deletable": true,
    "editable": true
   },
   "outputs": [
    {
     "name": "stdout",
     "output_type": "stream",
     "text": [
      "Tests Passed\n"
     ]
    }
   ],
   "source": [
    "def sentence_to_seq(sentence, vocab_to_int):\n",
    "    \"\"\"\n",
    "    Convert a sentence to a sequence of ids\n",
    "    :param sentence: String\n",
    "    :param vocab_to_int: Dictionary to go from the words to an id\n",
    "    :return: List of word ids\n",
    "    \"\"\"\n",
    "    # TODO: Implement Function\n",
    "    text = sentence.lower()\n",
    "    words_list = text.split()\n",
    "    word_id_list = [vocab_to_int.get(word, vocab_to_int['<UNK>']) for word in words_list]\n",
    "    return word_id_list\n",
    "\n",
    "\n",
    "\"\"\"\n",
    "DON'T MODIFY ANYTHING IN THIS CELL THAT IS BELOW THIS LINE\n",
    "\"\"\"\n",
    "tests.test_sentence_to_seq(sentence_to_seq)"
   ]
  },
  {
   "cell_type": "markdown",
   "metadata": {
    "deletable": true,
    "editable": true
   },
   "source": [
    "## Translate\n",
    "This will translate `translate_sentence` from English to French."
   ]
  },
  {
   "cell_type": "code",
   "execution_count": 21,
   "metadata": {
    "collapsed": false,
    "deletable": true,
    "editable": true
   },
   "outputs": [
    {
     "name": "stdout",
     "output_type": "stream",
     "text": [
      "INFO:tensorflow:Restoring parameters from checkpoints/dev\n",
      "Input\n",
      "  Word Ids:      [117, 164, 141, 5, 197, 50, 60]\n",
      "  English Words: ['he', 'saw', 'a', 'old', 'yellow', 'truck', '.']\n",
      "\n",
      "Prediction\n",
      "  Word Ids:      [52, 171, 171, 313, 239, 311, 234, 36, 1]\n",
      "  French Words: paris pas pas un jaune au printemps . <EOS>\n"
     ]
    }
   ],
   "source": [
    "translate_sentence = 'he saw a old yellow truck .'\n",
    "\n",
    "\n",
    "\"\"\"\n",
    "DON'T MODIFY ANYTHING IN THIS CELL\n",
    "\"\"\"\n",
    "translate_sentence = sentence_to_seq(translate_sentence, source_vocab_to_int)\n",
    "\n",
    "loaded_graph = tf.Graph()\n",
    "with tf.Session(graph=loaded_graph) as sess:\n",
    "    # Load saved model\n",
    "    loader = tf.train.import_meta_graph(load_path + '.meta')\n",
    "    loader.restore(sess, load_path)\n",
    "\n",
    "    input_data = loaded_graph.get_tensor_by_name('input:0')\n",
    "    logits = loaded_graph.get_tensor_by_name('predictions:0')\n",
    "    target_sequence_length = loaded_graph.get_tensor_by_name('target_sequence_length:0')\n",
    "    source_sequence_length = loaded_graph.get_tensor_by_name('source_sequence_length:0')\n",
    "    keep_prob = loaded_graph.get_tensor_by_name('keep_prob:0')\n",
    "\n",
    "    translate_logits = sess.run(logits, {input_data: [translate_sentence]*batch_size,\n",
    "                                         target_sequence_length: [len(translate_sentence)*2]*batch_size,\n",
    "                                         source_sequence_length: [len(translate_sentence)]*batch_size,\n",
    "                                         keep_prob: 1.0})[0]\n",
    "\n",
    "print('Input')\n",
    "print('  Word Ids:      {}'.format([i for i in translate_sentence]))\n",
    "print('  English Words: {}'.format([source_int_to_vocab[i] for i in translate_sentence]))\n",
    "\n",
    "print('\\nPrediction')\n",
    "print('  Word Ids:      {}'.format([i for i in translate_logits]))\n",
    "print('  French Words: {}'.format(\" \".join([target_int_to_vocab[i] for i in translate_logits])))\n"
   ]
  },
  {
   "cell_type": "markdown",
   "metadata": {
    "deletable": true,
    "editable": true
   },
   "source": [
    "## Imperfect Translation\n",
    "You might notice that some sentences translate better than others.  Since the dataset you're using only has a vocabulary of 227 English words of the thousands that you use, you're only going to see good results using these words.  For this project, you don't need a perfect translation. However, if you want to create a better translation model, you'll need better data.\n",
    "\n",
    "You can train on the [WMT10 French-English corpus](http://www.statmt.org/wmt10/training-giga-fren.tar).  This dataset has more vocabulary and richer in topics discussed.  However, this will take you days to train, so make sure you've a GPU and the neural network is performing well on dataset we provided.  Just make sure you play with the WMT10 corpus after you've submitted this project.\n",
    "## Submitting This Project\n",
    "When submitting this project, make sure to run all the cells before saving the notebook. Save the notebook file as \"dlnd_language_translation.ipynb\" and save it as a HTML file under \"File\" -> \"Download as\". Include the \"helper.py\" and \"problem_unittests.py\" files in your submission."
   ]
  }
 ],
 "metadata": {
  "anaconda-cloud": {},
  "kernelspec": {
   "display_name": "Python 3",
   "language": "python",
   "name": "python3"
  },
  "language_info": {
   "codemirror_mode": {
    "name": "ipython",
    "version": 3
   },
   "file_extension": ".py",
   "mimetype": "text/x-python",
   "name": "python",
   "nbconvert_exporter": "python",
   "pygments_lexer": "ipython3",
   "version": "3.5.2"
  },
  "widgets": {
   "state": {},
   "version": "1.1.2"
  }
 },
 "nbformat": 4,
 "nbformat_minor": 1
}
